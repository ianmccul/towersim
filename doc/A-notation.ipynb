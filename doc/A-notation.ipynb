{
 "cells": [
  {
   "cell_type": "markdown",
   "metadata": {},
   "source": [
    "# Appendix A: Notation\n",
    "\n",
    "| Symbol    | meaning |\n",
    "|-----------|---------|\n",
    "|$\\theta$   | angle of the bell from bottom dead centre -- positive angle = backstroke |\n",
    "|$M$        | mass of the bell|\n",
    "|$b$        | distance from the axis of the bell to its centre of gravity|\n",
    "|$I'_b$     | moment of inertia of the bell about its centre of gravity|\n",
    "|$I_b$      | moment of intertia of the bell about its axis|\n",
    "|$K_b$      | coefficient of friction of the bell|\n",
    "|$a$        |  distance from the bell axis to the clapper axis|\n",
    "|$\\alpha$   |  angle of the clapper axis from the centre line of the bell|\n",
    "|$\\phi$     |  angle of the clapper from the centre line of the bell|\n",
    "|$m$        | mass of the clapper|\n",
    "|$c$        | distance from the clapper axis to the clapper centre of gravity|\n",
    "|$I'_c$     | moment of inertia of the clapper about its centre of gravity|\n",
    "|$I_c$      | moment of inertia of the clapper about its axis|\n",
    "|$K_c$      | friction coefficient of the clapper|\n",
    "|$\\theta_H$ | position of the stay at handstroke (negative)|\n",
    "|$\\theta_B$ | position of the stay at backstroke (positive)|\n",
    "|$Y$        | Young's modulus of the stay|\n",
    "|$l_w$      | radius of the wheel|\n",
    "|$\\gamma$   | angle of the garter hole|\n",
    "|$M_r$      | mass of the rope|\n",
    "|$y_r$      | vertical height of the rope, relative to the pulley|\n",
    "|$f(t)$     | external force on the bell (ie, from the ringer pulling on the rope)|\n",
    "|$r$        | distance of the accelerometer from the axis|\n",
    "|$\\beta$    | angle of the accelerometer from the centre line of the bell|\n",
    "|$g$        | acceleration due to gravity, $9.81 ms^{-2}$|"
   ]
  },
  {
   "cell_type": "markdown",
   "metadata": {},
   "source": [
    "## Derived quantitities\n",
    "\n",
    "|Symbol     | definition | meaning|\n",
    "|-----------|--------|\n",
    "|$l_b$      | $\\frac{I_b}{Mb}$ | equivalent 'pendulum length' of the bell|\n",
    "|$k_b$      | $\\frac{K_b}{Mb}$ | reduced friction of the bell|\n",
    "|$l_c$      | $\\frac{I_c}{mc}$ | equivalent 'pendulum length' of the clapper|\n",
    "|$k_c$      | $\\frac{K_c}{mc}$ | reduced friction of the clapper|\n",
    "|$F(t)$     | $\\frac{f(t)}{I_b}$ | reduced force"
   ]
  }
 ],
 "metadata": {
  "kernelspec": {
   "display_name": "Python 3",
   "language": "python",
   "name": "python3"
  },
  "language_info": {
   "codemirror_mode": {
    "name": "ipython",
    "version": 3
   },
   "file_extension": ".py",
   "mimetype": "text/x-python",
   "name": "python",
   "nbconvert_exporter": "python",
   "pygments_lexer": "ipython3",
   "version": "3.6.3"
  }
 },
 "nbformat": 4,
 "nbformat_minor": 2
}
