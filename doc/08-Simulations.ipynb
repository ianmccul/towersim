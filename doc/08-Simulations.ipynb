{
 "cells": [
  {
   "cell_type": "markdown",
   "metadata": {},
   "source": [
    "Some experiments with interactive simulations"
   ]
  },
  {
   "cell_type": "code",
   "execution_count": 1,
   "metadata": {},
   "outputs": [],
   "source": [
    "from IPython.display import display, SVG, HTML, Image, clear_output\n",
    "import svgutils\n",
    "import copy\n",
    "import time\n",
    "from ipywidgets import interactive, FloatSlider, Layout"
   ]
  },
  {
   "cell_type": "code",
   "execution_count": 2,
   "metadata": {},
   "outputs": [],
   "source": [
    "svg = svgutils.transform.fromfile('wheel_bell.svg')\n",
    "image_width = float(svg.width)\n",
    "image_height = float(svg.height)\n",
    "bell_image = svg.getroot()\n",
    "\n",
    "def get_bell_image(angle):\n",
    "    bell_pic = copy.deepcopy(bell_image)\n",
    "    bell_pic.rotate(-angle, image_width/2, image_height/2)\n",
    "    return bell_pic\n",
    "\n",
    "def show_bell(angle):\n",
    "    bellfig = svgutils.transform.SVGFigure(image_width, image_height)\n",
    "    bellfig.append(get_bell_image(angle))\n",
    "    display(SVG(bellfig.to_str()))"
   ]
  },
  {
   "cell_type": "code",
   "execution_count": 3,
   "metadata": {},
   "outputs": [
    {
     "data": {
      "application/vnd.jupyter.widget-view+json": {
       "model_id": "a0fdf306f30a450594ceb26df098f0b5",
       "version_major": 2,
       "version_minor": 0
      },
      "text/html": [
       "<p>Failed to display Jupyter Widget of type <code>interactive</code>.</p>\n",
       "<p>\n",
       "  If you're reading this message in the Jupyter Notebook or JupyterLab Notebook, it may mean\n",
       "  that the widgets JavaScript is still loading. If this message persists, it\n",
       "  likely means that the widgets JavaScript library is either not installed or\n",
       "  not enabled. See the <a href=\"https://ipywidgets.readthedocs.io/en/stable/user_install.html\">Jupyter\n",
       "  Widgets Documentation</a> for setup instructions.\n",
       "</p>\n",
       "<p>\n",
       "  If you're reading this message in another frontend (for example, a static\n",
       "  rendering on GitHub or <a href=\"https://nbviewer.jupyter.org/\">NBViewer</a>),\n",
       "  it may mean that your frontend doesn't currently support widgets.\n",
       "</p>\n"
      ],
      "text/plain": [
       "interactive(children=(FloatSlider(value=0.0, description='angle', max=180.0, min=-180.0, step=1.0), Output()), _dom_classes=('widget-interact',))"
      ]
     },
     "metadata": {},
     "output_type": "display_data"
    }
   ],
   "source": [
    "interactive(show_bell, angle = FloatSlider(min=-180,max=180,step=1))"
   ]
  },
  {
   "cell_type": "code",
   "execution_count": 4,
   "metadata": {},
   "outputs": [
    {
     "data": {
      "image/svg+xml": [
       "<svg height=\"560.0\" version=\"1.1\" viewBox=\"0 0 560.0 560.0\" width=\"560.0\" xmlns=\"http://www.w3.org/2000/svg\" xmlns:xlink=\"http://www.w3.org/1999/xlink\">\n",
       "  <g transform=\" rotate(18.000000 280.000000 280.000000)\"><defs id=\"defs4\" xmlns:osb=\"http://www.openswatchbook.org/uri/2009/osb\">\n",
       "    <linearGradient id=\"linearGradient5306\" osb:paint=\"solid\">\n",
       "      <stop id=\"stop5308\" offset=\"0\" style=\"stop-color:#000000;stop-opacity:1;\"/>\n",
       "    </linearGradient>\n",
       "    <linearGradient id=\"linearGradient3793\" osb:paint=\"solid\">\n",
       "      <stop id=\"stop3795\" offset=\"0\" style=\"stop-color:#000000;stop-opacity:1;\"/>\n",
       "    </linearGradient>\n",
       "    <linearGradient id=\"linearGradient3787\" osb:paint=\"solid\">\n",
       "      <stop id=\"stop3789\" offset=\"0\" style=\"stop-color:#000000;stop-opacity:1;\"/>\n",
       "    </linearGradient>\n",
       "  </defs>\n",
       "  <sodipodi:namedview bordercolor=\"#666666\" borderopacity=\"1.0\" fit-margin-bottom=\"0\" fit-margin-left=\"0\" fit-margin-right=\"0\" fit-margin-top=\"0\" id=\"base\" inkscape:bbox-nodes=\"true\" inkscape:bbox-paths=\"true\" inkscape:current-layer=\"layer2\" inkscape:cx=\"263.83733\" inkscape:cy=\"156.4806\" inkscape:document-units=\"px\" inkscape:pageopacity=\"0.0\" inkscape:pageshadow=\"2\" inkscape:snap-bbox=\"true\" inkscape:snap-bbox-edge-midpoints=\"true\" inkscape:snap-bbox-midpoints=\"true\" inkscape:snap-grids=\"false\" inkscape:snap-to-guides=\"false\" inkscape:window-height=\"835\" inkscape:window-maximized=\"0\" inkscape:window-width=\"1434\" inkscape:window-x=\"0\" inkscape:window-y=\"0\" inkscape:zoom=\"1.5657364\" pagecolor=\"#ffffff\" showgrid=\"true\" xmlns:inkscape=\"http://www.inkscape.org/namespaces/inkscape\" xmlns:sodipodi=\"http://sodipodi.sourceforge.net/DTD/sodipodi-0.dtd\">\n",
       "    <inkscape:grid empspacing=\"5\" enabled=\"true\" id=\"grid2985\" originx=\"-110px\" originy=\"-420px\" snapvisiblegridlinesonly=\"true\" type=\"xygrid\" visible=\"true\"/>\n",
       "  </sodipodi:namedview>\n",
       "  <metadata id=\"metadata7\" xmlns:cc=\"http://creativecommons.org/ns#\" xmlns:dc=\"http://purl.org/dc/elements/1.1/\" xmlns:rdf=\"http://www.w3.org/1999/02/22-rdf-syntax-ns#\">\n",
       "    <rdf:RDF>\n",
       "      <cc:Work rdf:about=\"\">\n",
       "        <dc:format>image/svg+xml</dc:format>\n",
       "        <dc:type rdf:resource=\"http://purl.org/dc/dcmitype/StillImage\"/>\n",
       "        <dc:title/>\n",
       "      </cc:Work>\n",
       "    </rdf:RDF>\n",
       "  </metadata>\n",
       "  <g id=\"layer1\" inkscape:groupmode=\"layer\" inkscape:label=\"Wheel\" style=\"display:inline\" transform=\"translate(-110,-72.36218)\" xmlns:inkscape=\"http://www.inkscape.org/namespaces/inkscape\" xmlns:sodipodi=\"http://sodipodi.sourceforge.net/DTD/sodipodi-0.dtd\">\n",
       "    <path d=\"m 660,352.36218 c 0,146.35546 -118.64454,265 -265,265 -146.35546,0 -265,-118.64454 -265,-265 0,-146.35546 118.64454,-264.999997 265,-264.999997 146.35546,0 265,118.644537 265,264.999997 z\" id=\"path2987\" sodipodi:cx=\"395\" sodipodi:cy=\"352.36218\" sodipodi:rx=\"265\" sodipodi:ry=\"265\" sodipodi:type=\"arc\" style=\"fill:none;stroke:#000000;stroke-width:18.9642849;stroke-miterlimit:4;stroke-opacity:1;stroke-dasharray:none;stroke-dashoffset:0\" transform=\"matrix(1.0201028,0,0,1.0201028,-12.940608,-7.0834673)\"/>\n",
       "    <path d=\"m 410,362.36218 c 0,5.52285 -4.47715,10 -10,10 -5.52285,0 -10,-4.47715 -10,-10 0,-5.52284 4.47715,-10 10,-10 5.52285,0 10,4.47716 10,10 z\" id=\"path3799\" sodipodi:cx=\"400\" sodipodi:cy=\"362.36218\" sodipodi:rx=\"10\" sodipodi:ry=\"10\" sodipodi:type=\"arc\" style=\"fill:#000000;fill-opacity:1;stroke:#000000;stroke-width:1;stroke-miterlimit:4;stroke-opacity:1;stroke-dasharray:none;stroke-dashoffset:0\" transform=\"translate(-10,-10)\"/>\n",
       "    <rect height=\"58.788948\" id=\"rect3833\" style=\"fill:#000000;fill-opacity:1;stroke:#000000;stroke-width:1.21104169;stroke-miterlimit:4;stroke-opacity:1;stroke-dasharray:none;stroke-dashoffset:0\" width=\"99.788956\" x=\"340.10553\" y=\"272.96771\"/>\n",
       "    <path d=\"m 210,552.36218 130,-170\" id=\"path3003\" inkscape:connector-curvature=\"0\" sodipodi:nodetypes=\"cc\" style=\"fill:none;stroke:#000000;stroke-width:15;stroke-linecap:butt;stroke-linejoin:miter;stroke-miterlimit:4;stroke-opacity:1;stroke-dasharray:none\"/>\n",
       "    <path d=\"m 570,552.36218 -130,-170\" id=\"path3007\" inkscape:connector-curvature=\"0\" style=\"fill:none;stroke:#000000;stroke-width:15;stroke-linecap:butt;stroke-linejoin:miter;stroke-miterlimit:4;stroke-opacity:1;stroke-dasharray:none\"/>\n",
       "    <path d=\"m 170,192.36218 190,90\" id=\"path3009\" inkscape:connector-curvature=\"0\" sodipodi:nodetypes=\"cc\" style=\"fill:none;stroke:#000000;stroke-width:15;stroke-linecap:butt;stroke-linejoin:miter;stroke-miterlimit:4;stroke-opacity:1;stroke-dasharray:none\"/>\n",
       "    <path d=\"m 610,192.36218 -190,90\" id=\"path3011\" inkscape:connector-curvature=\"0\" sodipodi:nodetypes=\"cc\" style=\"fill:none;stroke:#000000;stroke-width:15;stroke-linecap:butt;stroke-linejoin:miter;stroke-miterlimit:4;stroke-opacity:1;stroke-dasharray:none\"/>\n",
       "    <path d=\"m 360,82.362183 0,299.999997\" id=\"path3013\" inkscape:connector-curvature=\"0\" style=\"fill:none;stroke:#000000;stroke-width:15;stroke-linecap:butt;stroke-linejoin:miter;stroke-miterlimit:4;stroke-opacity:1;stroke-dasharray:none\"/>\n",
       "    <path d=\"m 420,82.362183 0,299.999997\" id=\"path3015\" inkscape:connector-curvature=\"0\" style=\"fill:none;stroke:#000000;stroke-width:15;stroke-linecap:butt;stroke-linejoin:miter;stroke-miterlimit:4;stroke-opacity:1;stroke-dasharray:none\"/>\n",
       "    <path d=\"m 120,382.36218 540,0\" id=\"path3017\" inkscape:connector-curvature=\"0\" style=\"fill:none;stroke:#000000;stroke-width:15;stroke-linecap:butt;stroke-linejoin:miter;stroke-miterlimit:4;stroke-opacity:1;stroke-dasharray:none\"/>\n",
       "    <path d=\"m 120,372.36218 240,-50\" id=\"path3019\" inkscape:connector-curvature=\"0\" style=\"fill:none;stroke:#000000;stroke-width:15;stroke-linecap:butt;stroke-linejoin:miter;stroke-miterlimit:4;stroke-opacity:1;stroke-dasharray:none\"/>\n",
       "    <path d=\"m 660,372.36218 -240,-50\" id=\"path3021\" inkscape:connector-curvature=\"0\" style=\"fill:none;stroke:#000000;stroke-width:15;stroke-linecap:butt;stroke-linejoin:miter;stroke-miterlimit:4;stroke-opacity:1;stroke-dasharray:none\"/>\n",
       "  </g>\n",
       "  <g id=\"layer2\" inkscape:groupmode=\"layer\" inkscape:label=\"Bell\" style=\"display:inline;opacity:1\" xmlns:inkscape=\"http://www.inkscape.org/namespaces/inkscape\" xmlns:sodipodi=\"http://sodipodi.sourceforge.net/DTD/sodipodi-0.dtd\">\n",
       "    <path d=\"m 279.84838,279.98221 33.57074,0 0,10.21141 c 0,0 50.11384,7.2427 50.41294,38.52903 l 0.63868,66.80661 c 0,0 -1.05953,23.97269 23.61323,63.19339 9.40837,14.95588 31.26651,35.69914 31.64249,51.01626 l 0,0 -139.87808,0\" id=\"path3030\" inkscape:connector-curvature=\"0\" sodipodi:nodetypes=\"cccscsccc\" style=\"fill:#a17207;fill-opacity:0.67256637;stroke:#000000;stroke-width:0.53448147px;stroke-linecap:butt;stroke-linejoin:miter;stroke-opacity:1\"/>\n",
       "    <use height=\"1052.3622\" id=\"use3032\" style=\"fill:#a17207;fill-opacity:0.67256635;fill-rule:nonzero;stroke:#000000;stroke-width:0.99900001000000005;stroke-miterlimit:4;stroke-opacity:1;stroke-dasharray:none\" transform=\"matrix(-1,0,0,1,559.69677,1.3362585e-6)\" width=\"744.09448\" x=\"0\" xlink:href=\"#path3030\" y=\"0\"/>\n",
       "    <rect height=\"10.211409\" id=\"rect3034\" ry=\"0\" style=\"fill:#a1720e;fill-opacity:1;fill-rule:evenodd;stroke:#000000;stroke-width:0.53448147000000001px;stroke-linecap:butt;stroke-linejoin:miter;stroke-opacity:1\" width=\"67.141479\" x=\"246.27765\" y=\"279.98221\"/>\n",
       "  </g>\n",
       "</g>\n",
       "</svg>"
      ],
      "text/plain": [
       "<IPython.core.display.SVG object>"
      ]
     },
     "metadata": {},
     "output_type": "display_data"
    },
    {
     "ename": "KeyboardInterrupt",
     "evalue": "",
     "output_type": "error",
     "traceback": [
      "\u001b[0;31m---------------------------------------------------------------------------\u001b[0m",
      "\u001b[0;31mKeyboardInterrupt\u001b[0m                         Traceback (most recent call last)",
      "\u001b[0;32m<ipython-input-4-bbbd38a33612>\u001b[0m in \u001b[0;36m<module>\u001b[0;34m()\u001b[0m\n\u001b[1;32m      4\u001b[0m     \u001b[0mshow_bell\u001b[0m\u001b[0;34m(\u001b[0m\u001b[0mangle\u001b[0m\u001b[0;34m)\u001b[0m\u001b[0;34m\u001b[0m\u001b[0m\n\u001b[1;32m      5\u001b[0m     \u001b[0mangle\u001b[0m \u001b[0;34m=\u001b[0m \u001b[0mangle\u001b[0m \u001b[0;34m+\u001b[0m \u001b[0;36m1\u001b[0m\u001b[0;34m\u001b[0m\u001b[0m\n\u001b[0;32m----> 6\u001b[0;31m     \u001b[0mtime\u001b[0m\u001b[0;34m.\u001b[0m\u001b[0msleep\u001b[0m\u001b[0;34m(\u001b[0m\u001b[0;36m0.03\u001b[0m\u001b[0;34m)\u001b[0m\u001b[0;34m\u001b[0m\u001b[0m\n\u001b[0m",
      "\u001b[0;31mKeyboardInterrupt\u001b[0m: "
     ]
    }
   ],
   "source": [
    "angle = -180\n",
    "while True:\n",
    "    clear_output(wait=True)\n",
    "    show_bell(angle)\n",
    "    angle = angle + 1\n",
    "    time.sleep(0.03)"
   ]
  },
  {
   "cell_type": "code",
   "execution_count": null,
   "metadata": {},
   "outputs": [],
   "source": []
  }
 ],
 "metadata": {
  "kernelspec": {
   "display_name": "Python 3",
   "language": "python",
   "name": "python3"
  },
  "language_info": {
   "codemirror_mode": {
    "name": "ipython",
    "version": 3
   },
   "file_extension": ".py",
   "mimetype": "text/x-python",
   "name": "python",
   "nbconvert_exporter": "python",
   "pygments_lexer": "ipython3",
   "version": "3.6.3"
  }
 },
 "nbformat": 4,
 "nbformat_minor": 2
}
