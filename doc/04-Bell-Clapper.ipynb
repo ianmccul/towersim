{
 "cells": [
  {
   "cell_type": "markdown",
   "metadata": {},
   "source": [
    "# Bell with clapper\n",
    "\n",
    "In this section, we model the clapper moving in response to the bell. In this version, the bell moves independently, and is unaffected by the motion of the clapper."
   ]
  },
  {
   "cell_type": "code",
   "execution_count": 13,
   "metadata": {},
   "outputs": [],
   "source": [
    "%matplotlib notebook\n",
    "from scipy.special import ellipk\n",
    "import numpy as np\n",
    "import matplotlib.pyplot as plt\n",
    "from IPython.core.debugger import set_trace\n",
    "from functools import partial\n",
    "from ipywidgets import interactive, FloatSlider, Layout\n",
    "#from bqplot import pyplot as plt"
   ]
  },
  {
   "cell_type": "markdown",
   "metadata": {},
   "source": [
    "Some constants. \n",
    "\n",
    "The clapper bounds are the angles where the clapper strikes the bell. We've set these\n",
    "to +/- 30 degrees here somewhat arbitarily."
   ]
  },
  {
   "cell_type": "code",
   "execution_count": 14,
   "metadata": {},
   "outputs": [],
   "source": [
    "# acceleration due to gravity\n",
    "g = 9.81\n",
    "\n",
    "# clapper bounds\n",
    "phi0 = -30 * np.pi / 180\n",
    "phi1 = 30 * np.pi / 180"
   ]
  },
  {
   "cell_type": "markdown",
   "metadata": {},
   "source": [
    "The equations of motion are specified by the derivatives of the variables.\n",
    "In this case, we include the clapper which moves in response to the bell,\n",
    "but we *do not* yet include the back-action of the clapper on the bell."
   ]
  },
  {
   "cell_type": "code",
   "execution_count": 15,
   "metadata": {},
   "outputs": [],
   "source": [
    "def deriv(l_b, l_c, c, alpha, y, t):\n",
    "    [theta, vtheta, phi, vphi] = y\n",
    "    theta_dot  = vtheta\n",
    "    vtheta_dot = - (g / l_b) * np.sin(theta)\n",
    "\n",
    "    phi_dot = vphi\n",
    "\n",
    "    # note sign error in the original notes \n",
    "    vphi_dot = -vtheta_dot * (1 + (c / l_c) * np.cos(phi - alpha)) \\\n",
    "               + (c / l_c) * (vtheta**2) * np.sin(phi - alpha) - (g / l_c) * np.sin(theta+phi)\n",
    "    return np.array([theta_dot, vtheta_dot, phi_dot, vphi_dot])"
   ]
  },
  {
   "cell_type": "markdown",
   "metadata": {},
   "source": [
    "Because we need to clip the clapper position at the side of the bell, we cannot use the NumPy\n",
    "built-in ODE solver. So we use here a custom 4th order Runge-Kutta. Note the rk4() function is completely generic - the integrate_rk4 function takes the clapper into account"
   ]
  },
  {
   "cell_type": "code",
   "execution_count": 16,
   "metadata": {},
   "outputs": [],
   "source": [
    "def rk4(f, x, t, step):\n",
    "    k1 = step * f(x, t)\n",
    "    x1 = x + 0.5*k1\n",
    "    k2 = step * f(x1, t+0.5*step)\n",
    "    x2 = x + 0.5*k2\n",
    "    k3 = step * f(x2, t+0.5*step)\n",
    "    x3 = x + k3;\n",
    "    k4 = step * f(x3, t+step)\n",
    "    return (k1 + 2*k2 + 2*k3 + k4) / 6.0"
   ]
  },
  {
   "cell_type": "code",
   "execution_count": 17,
   "metadata": {},
   "outputs": [],
   "source": [
    "def integrate_rk4_clapper(y0, t, step, l_b, l_c, c, alpha, clapper):\n",
    "    y = y0 + rk4(partial(deriv, l_b, l_c, c, alpha), y0, t, step)\n",
    "    # check for clapper clapping the bell\n",
    "    if y[2] > phi1:\n",
    "        clapper = True\n",
    "        y[2] = phi1\n",
    "        y[3] = 0\n",
    "    elif y[2] < phi0:\n",
    "        clapper = True\n",
    "        y[2] = phi0\n",
    "        y[3] = 0\n",
    "    else:\n",
    "        clapper = False\n",
    "    return [clapper, y]"
   ]
  },
  {
   "cell_type": "code",
   "execution_count": 18,
   "metadata": {},
   "outputs": [],
   "source": [
    "def integrate_sequence(y0, tindex, theta_0, l_b, l_c, c, alpha):\n",
    "    y = [np.array([theta_0, 0.0, phi1, 0.0])]\n",
    "    StrikeTimes = []\n",
    "    t_last = tindex[0]\n",
    "    clapper = True\n",
    "    for t in tindex[1:]:\n",
    "        step = t - t_last\n",
    "        OldClapper = clapper\n",
    "        [clapper, yNext] = integrate_rk4_clapper(y[-1], t_last, step, l_b, l_c, c, alpha, clapper)\n",
    "        y.append(yNext)\n",
    "        if clapper and not OldClapper:\n",
    "            StrikeTimes.append(t)\n",
    "        t_last = t\n",
    "    return [StrikeTimes, np.array(y)]"
   ]
  },
  {
   "cell_type": "code",
   "execution_count": 19,
   "metadata": {},
   "outputs": [],
   "source": [
    "# period of small oscillations\n",
    "def small_oscillation(l_b):\n",
    "    return 2 * np.pi * np.sqrt(l_b / g)\n",
    "\n",
    "# Exact formula from elliptic integral for the period\n",
    "def exact_period(l_b, theta_0):\n",
    "    return 4 * np.sqrt(l_b / g) * ellipk(np.sin(theta_0/2)**2)"
   ]
  },
  {
   "cell_type": "code",
   "execution_count": 20,
   "metadata": {},
   "outputs": [],
   "source": [
    "def update(theta_0, l_b, l_c, c, alpha):\n",
    "    Texact = exact_period(l_b, theta_0 * np.pi/180)\n",
    "    t = np.linspace(0, 2.5*Texact + 1e-3, 1000)\n",
    "    y0 = np.array([theta_0*np.pi/180, 0, phi1, 0])\n",
    "    [StrikeTimes, y] = integrate_sequence(y0, t, theta_0*np.pi/180, l_b, l_c, c, alpha*np.pi/180)\n",
    "    plt.figure(figsize=(8,6), dpi=80)\n",
    "    plt.plot(t, y[:,0] * 180 / np.pi, 'b', label='bell')\n",
    "    plt.plot(t, y[:,2] * 180 / np.pi, 'g', label='clapper')\n",
    "    plt.plot([], [], 'r-', label='strike')\n",
    "    for tStrike in StrikeTimes:\n",
    "        plt.plot((tStrike, tStrike), (-180, 180), 'r-')\n",
    "    plt.legend(loc='best')\n",
    "    plt.xlabel('t')\n",
    "    plt.ylabel('angle')\n",
    "    plt.grid()\n",
    "    plt.show()\n",
    "    print('Period of small oscillations: {:.4} seconds'.format(small_oscillation(l_b)))\n",
    "    print('Exact period: {:.4}'.format(Texact))\n",
    "    print('Oddstruckness: {:.4}'.format(2*StrikeTimes[2]-StrikeTimes[1] - StrikeTimes[3]))"
   ]
  },
  {
   "cell_type": "code",
   "execution_count": 21,
   "metadata": {},
   "outputs": [
    {
     "data": {
      "application/vnd.jupyter.widget-view+json": {
       "model_id": "1751f8d6f7d149e9b553907c0dd4b806",
       "version_major": 2,
       "version_minor": 0
      },
      "text/html": [
       "<p>Failed to display Jupyter Widget of type <code>interactive</code>.</p>\n",
       "<p>\n",
       "  If you're reading this message in the Jupyter Notebook or JupyterLab Notebook, it may mean\n",
       "  that the widgets JavaScript is still loading. If this message persists, it\n",
       "  likely means that the widgets JavaScript library is either not installed or\n",
       "  not enabled. See the <a href=\"https://ipywidgets.readthedocs.io/en/stable/user_install.html\">Jupyter\n",
       "  Widgets Documentation</a> for setup instructions.\n",
       "</p>\n",
       "<p>\n",
       "  If you're reading this message in another frontend (for example, a static\n",
       "  rendering on GitHub or <a href=\"https://nbviewer.jupyter.org/\">NBViewer</a>),\n",
       "  it may mean that your frontend doesn't currently support widgets.\n",
       "</p>\n"
      ],
      "text/plain": [
       "interactive(children=(FloatSlider(value=175.0, continuous_update=False, description='\\\\(\\\\theta_0\\\\)', layout=Layout(height='20px', width='80%'), max=179.99, min=0.01, step=0.01), FloatSlider(value=0.6, continuous_update=False, description='\\\\(l_b\\\\)', layout=Layout(height='20px', width='80%'), max=5.0, min=0.01, step=0.01), FloatSlider(value=1.0, continuous_update=False, description='\\\\(l_c\\\\)', layout=Layout(height='20px', width='80%'), max=5.0, min=0.01, step=0.01), FloatSlider(value=0.2, continuous_update=False, description='\\\\(c\\\\)', layout=Layout(height='20px', width='80%'), max=5.0, min=0.01, step=0.01), FloatSlider(value=0.0, continuous_update=False, description='\\\\(\\\\alpha\\\\)', layout=Layout(height='20px', width='80%'), max=45.0, min=-45.0), Output()), _dom_classes=('widget-interact',))"
      ]
     },
     "metadata": {},
     "output_type": "display_data"
    }
   ],
   "source": [
    "mylayout = Layout(width='80%', height='20px')\n",
    "theta_0_float = FloatSlider(description=r'\\(\\theta_0\\)', \\\n",
    "                        min=0.01, max=179.99, step=0.01, value=175, \\\n",
    "                        continuous_update=False, layout=mylayout)\n",
    "l_b_float = FloatSlider(description=r'\\(l_b\\)', \\\n",
    "                        min=0.01, max=5, step=0.01, value=0.6, \\\n",
    "                        continuous_update=False, layout=mylayout)\n",
    "l_c_float = FloatSlider(description=r'\\(l_c\\)', \\\n",
    "                        min=0.01, max=5, step=0.01, value=1, \\\n",
    "                        continuous_update=False, layout=mylayout)\n",
    "c_float = FloatSlider(description=r'\\(c\\)', \\\n",
    "                      min=0.01, max=5, step=0.01, value=0.2, \\\n",
    "                      continuous_update=False, layout=mylayout)\n",
    "alpha_float = FloatSlider(description=r'\\(\\alpha\\)', \\\n",
    "                          min=-45, max=45, step=0.1, value=0, \\\n",
    "                          continuous_update=False, layout=mylayout)\n",
    "interactive(update, theta_0=theta_0_float, l_b=l_b_float, l_c=l_c_float, c=c_float, alpha=alpha_float)"
   ]
  },
  {
   "cell_type": "code",
   "execution_count": null,
   "metadata": {},
   "outputs": [],
   "source": []
  },
  {
   "cell_type": "code",
   "execution_count": null,
   "metadata": {},
   "outputs": [],
   "source": []
  }
 ],
 "metadata": {
  "kernelspec": {
   "display_name": "Python 3",
   "language": "python",
   "name": "python3"
  },
  "language_info": {
   "codemirror_mode": {
    "name": "ipython",
    "version": 3
   },
   "file_extension": ".py",
   "mimetype": "text/x-python",
   "name": "python",
   "nbconvert_exporter": "python",
   "pygments_lexer": "ipython3",
   "version": "3.6.3"
  }
 },
 "nbformat": 4,
 "nbformat_minor": 2
}
