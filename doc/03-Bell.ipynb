{
 "cells": [
  {
   "cell_type": "markdown",
   "metadata": {},
   "source": [
    "# Motion of a bell\n",
    "\n",
    "In this notebook, we solve the equations of motion for a freely swinging bell, ignoring all other effects such as the clapper, rope, ringer etc.\n",
    "\n",
    "A freely swinging bell follows the same motions as a simple pendulum. A simple pendulum is described by the equation of motion\n",
    "\n",
    "$$\n",
    "\\ddot{\\theta} = - \\frac{g}{l} \\sin \\theta\n",
    "$$\n",
    "\n",
    "where $g$ is the acceleration due to gravity (around $9.81 ms^{-2}$ at the surface of the Earth), and $l$ is the length of the pendulum. It is a famous result that the motion of the pendulum is independent of its mass.\n",
    "\n",
    "Similarly, the motion of a bell can be described by the same equation, where the 'length' $l$ is replaced by and 'equivalent pendulum length' $l_b$. Normally a pandulum is treated in a simplified fashion, as a point-like mass at the end of a thin rod (which is assumed to have no mass), which makes finding the length $l$ very easy. A bell obviously has a very different mass distribution. The derivation of the equations in the appendix shows that we can obtain the equivalent pendulum length from three quantities, the total mass of the bell $M$, the moment of inertia of the bell about the axis of rotation $I_b$, and the distance from the axis of rotation to the centre of gravity $b$, as\n",
    "\n",
    "$$\n",
    "l_b = \\frac{I_b}{Mb}\n",
    "$$\n",
    "\n",
    "In practice, none of these quantities can be determined with any accuracy for a bell -- in principle the approximate mass of the bell is stated by the bell founder, but we need to include also the mass of the headstock and wheel. The moment of interia and the location of the centre of gravity are not easy to determine. \n",
    "\n",
    "## Determining $l_b$\n",
    "\n",
    "It is not difficult to determine the equivalent pendulum length $l_b$ directly, by measuring the oscillation period. If the amplitude of oscillation is small, then we can approximate $\\sin \\theta \\simeq \\theta$, and the equations of motion simplify to\n",
    "\n",
    "$$\\ddot{\\theta} = - \\frac{g}{l_b} \\theta$$\n",
    "\n",
    "which has the solution $\\theta = A \\sin \\omega t$, where $A$ is the amplitude of oscillation (assumed small here), and $\\omega = \\sqrt{g/l_b}$ is the angular frequency. This gives the period:\n",
    "\n",
    "$$T = 2 \\pi \\sqrt{\\frac{l_b}{g}}$$\n",
    "\n",
    "It isn't difficult to swing the bell gently when it is in the down position and measure this period, and hence determine $l_b$. However this formula is only correct in the limit of small amplitude. If the bell is swinging more than a few degrees, then this formula gives an incorrect answer. The *exact* period for arbitarily large amplitudes can be obtained by integrating the equation of motion over one period. However this integral cannot be expressed in terms of elementary functions, indeed, this equation of motion is essentially the defintion of the elliptic integral of the first kind, typically denoted $K(m)$,\n",
    "\n",
    "$$T = 4 \\sqrt{\\frac{l_b}{g}} K(\\sin^2 \\theta_0/2)$$\n",
    "\n",
    "where $\\theta_0$ is the maximum angle that the bell reaches. The elliptic integral is included in the mathematics libraries of most programming languages, so there isn't really any reason to use anything other than the exact expression. However as long as the amplitude is smaller than around 90 degrees (which it surely is if you are measuring it by swinging a bell by hand), there is a good approximation described by Lima and Arun (arXiv:physics/0510206v3),\n",
    "\n",
    "$$\\begin{align}\n",
    "a &=& \\cos \\theta_0/2 \\\\\n",
    "T &=& 2 \\pi \\sqrt{\\frac{l_b}{g}} \\frac{\\ln a}{1-a}\n",
    "\\end{align}\n",
    "$$\n",
    "\n",
    "A good way to determine the oscillation period is using a gyroscope, which can give very accurate results and can also determine the approximate amplitude.\n",
    "\n",
    "# Solving the equations of motion in Python"
   ]
  },
  {
   "cell_type": "code",
   "execution_count": 1,
   "metadata": {},
   "outputs": [],
   "source": [
    "%matplotlib inline\n",
    "from scipy.special import ellipk\n",
    "import scipy.integrate as integrate\n",
    "import numpy as np\n",
    "from functools import partial\n",
    "import matplotlib.pyplot as plt\n",
    "from ipywidgets import interactive, FloatSlider, Layout"
   ]
  },
  {
   "cell_type": "markdown",
   "metadata": {},
   "source": [
    "Some constants. To see what bellringing on the moon would be like, set the acceleration\n",
    "due to gravity to 1.62.  Or 24.5 for Jupiter."
   ]
  },
  {
   "cell_type": "code",
   "execution_count": 2,
   "metadata": {},
   "outputs": [],
   "source": [
    "# acceleration due to gravity\n",
    "g = 9.81"
   ]
  },
  {
   "cell_type": "markdown",
   "metadata": {},
   "source": [
    "To solve the equations of motion, we write them as two coupled first order differential equations for the angle $\\theta$ and angular velocity $v_\\theta$:\n",
    "\n",
    "$$\\begin{align}\n",
    "\\dot{\\theta} && = && v_\\theta \\\\\n",
    "\\dot{v}_\\theta && = && - \\frac{g}{l_b} \\sin \\theta\n",
    "\\end{align}\n",
    "$$\n",
    "\n",
    "We can use the ODE solver from SciPy.  Although it turns out this isn't so accurate, if you set the bell swinging with large oscillations (very close to 180 degrees), then sometimes it swings more than 180 degrees at the next stroke (which means it keeps on swinging around in the same direction, since there isn't a stay!).  The RK4 solver used in the next section doesn't have this problem. The basic input for an ODE solver is a function to obtain the derivatives of the variables:"
   ]
  },
  {
   "cell_type": "code",
   "execution_count": 3,
   "metadata": {},
   "outputs": [],
   "source": [
    "def deriv(l_b, y, t):\n",
    "    [theta, vtheta] = y\n",
    "    theta_dot  = vtheta\n",
    "    vtheta_dot = - (g / l_b) * np.sin(theta)\n",
    "    return [theta_dot, vtheta_dot]"
   ]
  },
  {
   "cell_type": "markdown",
   "metadata": {},
   "source": [
    "Now for convenience, some functions to get the oscillation period. There is a well-known approximation for small oscillations\n",
    "of a pendulum, which is independent of the amplitude (as long as the amplitude is quite small). We\n",
    "also calculate an approximation that works for larger amplitudes; there are several such approximations\n",
    "that have been proposed, here we use the Lima-Arun formula, from arXiv:physics/0510206v3.\n",
    "Finally, the *exact* period can be calculated from the elliptic integral of the first kind."
   ]
  },
  {
   "cell_type": "code",
   "execution_count": 4,
   "metadata": {},
   "outputs": [],
   "source": [
    "# period of small oscillations\n",
    "def small_oscillation(l_b):\n",
    "    return 2 * np.pi * np.sqrt(l_b / g)\n",
    "\n",
    "# Lima-Arun formula, from arXiv:physics/0510206v3\n",
    "def lima_arun(l_b, theta_0):\n",
    "    aa = np.cos(theta_0/2)\n",
    "    return -small_oscillation(l_b) * np.log(aa) / (1 - aa)\n",
    "\n",
    "# Exact formula from elliptic integral\n",
    "def exact_period(l_b, theta_0):\n",
    "    return 4 * np.sqrt(l_b / g) * ellipk(np.sin(theta_0/2)**2)"
   ]
  },
  {
   "cell_type": "markdown",
   "metadata": {},
   "source": [
    "This function produces a plot of the angle and angular velocity of the bell, given the $l_b$ and amplitude of oscillation $\\theta_0$."
   ]
  },
  {
   "cell_type": "code",
   "execution_count": 5,
   "metadata": {},
   "outputs": [],
   "source": [
    "def update(theta_0, l_b):\n",
    "    Texact = exact_period(l_b, theta_0 * np.pi/180)\n",
    "    t = np.linspace(0, 2.5*Texact, 10000)\n",
    "    y0 = [theta_0 * np.pi / 180, 0]\n",
    "    y = integrate.odeint(partial(deriv, l_b), y0, t)\n",
    "    fig, ax1 = plt.subplots(figsize=(10,8))\n",
    "    ax1.set_xlabel('t')\n",
    "    ax1.set_ylabel('angle', color='b')\n",
    "    ax1.plot(t, y[:,0] * 180 / np.pi, 'b')\n",
    "    ax2 = ax1.twinx()\n",
    "    ax2.set_ylabel('velocity', color='g')\n",
    "    ax2.plot(t, y[:,1] * 180 / np.pi, 'g')\n",
    "    ax1.grid()\n",
    "    ax2.grid()\n",
    "    fig.tight_layout()\n",
    "    plt.show()\n",
    "    print('Period of small oscillations: {:.4} seconds'.format(small_oscillation(l_b)))\n",
    "    print('Lima-Arun approximation for the period: {:.4}'.\\\n",
    "          format(lima_arun(l_b, theta_0*np.pi/180)))\n",
    "    print('Exact period: {:.4}'.format(Texact))"
   ]
  },
  {
   "cell_type": "markdown",
   "metadata": {},
   "source": [
    "## Interactive plot"
   ]
  },
  {
   "cell_type": "code",
   "execution_count": 6,
   "metadata": {},
   "outputs": [
    {
     "data": {
      "application/vnd.jupyter.widget-view+json": {
       "model_id": "8dab6d961095475ba21e9f85640903fc",
       "version_major": 2,
       "version_minor": 0
      },
      "text/html": [
       "<p>Failed to display Jupyter Widget of type <code>interactive</code>.</p>\n",
       "<p>\n",
       "  If you're reading this message in the Jupyter Notebook or JupyterLab Notebook, it may mean\n",
       "  that the widgets JavaScript is still loading. If this message persists, it\n",
       "  likely means that the widgets JavaScript library is either not installed or\n",
       "  not enabled. See the <a href=\"https://ipywidgets.readthedocs.io/en/stable/user_install.html\">Jupyter\n",
       "  Widgets Documentation</a> for setup instructions.\n",
       "</p>\n",
       "<p>\n",
       "  If you're reading this message in another frontend (for example, a static\n",
       "  rendering on GitHub or <a href=\"https://nbviewer.jupyter.org/\">NBViewer</a>),\n",
       "  it may mean that your frontend doesn't currently support widgets.\n",
       "</p>\n"
      ],
      "text/plain": [
       "interactive(children=(FloatSlider(value=175.0, continuous_update=False, description='\\\\(\\\\theta_0\\\\)', layout=Layout(height='20px', width='80%'), max=179.99, min=0.01, step=0.01), FloatSlider(value=0.6, continuous_update=False, description='\\\\(l_b\\\\)', layout=Layout(height='20px', width='80%'), max=5.0, min=0.01, step=0.01), Output()), _dom_classes=('widget-interact',))"
      ]
     },
     "metadata": {},
     "output_type": "display_data"
    }
   ],
   "source": [
    "mylayout = Layout(width='80%', height='20px')\n",
    "theta_0_float = FloatSlider(description=r'\\(\\theta_0\\)', \\\n",
    "                        min=0.01, max=179.99, step=0.01, value=175, \\\n",
    "                        continuous_update=False, layout=mylayout)\n",
    "l_b_float = FloatSlider(description=r'\\(l_b\\)', \\\n",
    "                        min=0.01, max=5, step=0.01, value=0.6, \\\n",
    "                        continuous_update=False, layout=mylayout)\n",
    "interactive(update, theta_0=theta_0_float, l_b=l_b_float)"
   ]
  },
  {
   "cell_type": "markdown",
   "metadata": {},
   "source": [
    "## Accelerometer\n",
    "\n",
    "We now plot the signal as measured by an accelerometer if it is placed on the bell at an angle $\\beta$ from the centre line of the bell, at a distance $r$ from the axis. We assume that the axes of the accelerometer are at angle $\\delta$ relative to the direction of the axis of the bell. This means that if the accelerometer is placed such that the $Y$-axis is vertical, then we have $\\delta = \\beta$.\n",
    "\n",
    "Firstly for the case of $\\delta = 0$, meaning the $Y$-axis is pointed towards the axis of the bell. The acceleration is (note sign chang in the original notes equation (49), if we are accelerating with positive $\\ddot{\\theta}$ then the accelerometer measures $-x$.  This is for consistency with the direction of gravity - we're actually accelerating upwards but conventionally we write gravity pointing down. TODO: I don't like this, fix it).\n",
    "\n",
    "$$\\begin{align}\n",
    "\\ddot{x} & = & - g \\sin (\\theta + \\beta) + \\frac{r g \\sin \\theta}{l_b} \\\\\n",
    "\\ddot{y} & = & -r v_\\theta^2 - g \\cos (\\theta + \\beta)\n",
    "\\end{align}\n",
    "$$\n",
    "\n",
    "A non-zero $\\delta$ is just a rotation of these coordinates which we label $x'$, $y'$, which is\n",
    "\n",
    "$$\\begin{align}\n",
    "\\ddot{x}' &=& \\ddot{x} \\cos \\delta - \\ddot{y} \\sin \\delta \\\\\n",
    "\\ddot{y}' &=& = \\ddot{x} \\sin \\delta + \\ddot{y} \\cos \\delta\n",
    "\\end{align}\n",
    "$$"
   ]
  },
  {
   "cell_type": "code",
   "execution_count": 7,
   "metadata": {},
   "outputs": [],
   "source": [
    "def x_accel(theta, l_b, beta, r):\n",
    "    return -g * np.sin(theta + beta) + r*g*np.sin(theta) / l_b\n",
    "\n",
    "def y_accel(theta, v_theta, beta, r):\n",
    "    return -r*v_theta**2 - g*np.cos(theta+beta)\n",
    "\n",
    "def accel_rot(theta, v_theta, l_b, beta, r, delta):\n",
    "    xddot = x_accel(theta, l_b, beta, r)\n",
    "    yddot = y_accel(theta, v_theta, beta, r)\n",
    "    return np.array([xddot*np.cos(delta) - yddot*np.sin(delta), \\\n",
    "                     xddot*np.sin(delta) + yddot*np.cos(delta)])"
   ]
  },
  {
   "cell_type": "code",
   "execution_count": 8,
   "metadata": {},
   "outputs": [],
   "source": [
    "def update_accel(theta_0, l_b, beta, r, delta):\n",
    "    Texact = exact_period(l_b, theta_0 * np.pi/180)\n",
    "    t = np.linspace(0, 2.5*Texact, 10000)\n",
    "    y0 = [theta_0 * np.pi / 180, 0]\n",
    "    y = integrate.odeint(partial(deriv, l_b), y0, t)\n",
    "    fig, ax1 = plt.subplots(figsize=(10,8))\n",
    "    ax1.set_xlabel('t')\n",
    "    ax1.plot(t, y[:,0] * 180 / np.pi, 'b', label='angle')\n",
    "    ax1.plot(t, y[:,1] * 180 / np.pi, 'g', label='velocity')\n",
    "    ax1.grid()\n",
    "    ax1.legend(loc='best')\n",
    "    ax2 = ax1.twinx()\n",
    "    accel_coords = []\n",
    "    for yx in y:\n",
    "        accel_coords.append(accel_rot(yx[0], yx[1], l_b, beta*np.pi/180, r, delta*np.pi/180))\n",
    "    #accel_coords = np.vectorize(get_accel)(y)\n",
    "    accel_coords = np.array(accel_coords)\n",
    "    ax2.plot(t, accel_coords[:,0], 'Red', label='X acceleration')\n",
    "    ax2.plot(t, accel_coords[:,1], 'Black', label='Y acceleration')\n",
    "    ax2.grid()\n",
    "    ax2.legend(loc='best')\n",
    "    fig.tight_layout()\n",
    "    plt.show()\n",
    "    print('Period of small oscillations: {:.4} seconds'.format(small_oscillation(l_b)))\n",
    "    print('Lima-Arun approximation for the period: {:.4}'.\\\n",
    "          format(lima_arun(l_b, theta_0*np.pi/180)))\n",
    "    print('Exact period: {:.4}'.format(Texact))"
   ]
  },
  {
   "cell_type": "code",
   "execution_count": 9,
   "metadata": {
    "scrolled": false
   },
   "outputs": [
    {
     "data": {
      "application/vnd.jupyter.widget-view+json": {
       "model_id": "b2a4e56d95bc44da8ef681fee3442ea9",
       "version_major": 2,
       "version_minor": 0
      },
      "text/html": [
       "<p>Failed to display Jupyter Widget of type <code>interactive</code>.</p>\n",
       "<p>\n",
       "  If you're reading this message in the Jupyter Notebook or JupyterLab Notebook, it may mean\n",
       "  that the widgets JavaScript is still loading. If this message persists, it\n",
       "  likely means that the widgets JavaScript library is either not installed or\n",
       "  not enabled. See the <a href=\"https://ipywidgets.readthedocs.io/en/stable/user_install.html\">Jupyter\n",
       "  Widgets Documentation</a> for setup instructions.\n",
       "</p>\n",
       "<p>\n",
       "  If you're reading this message in another frontend (for example, a static\n",
       "  rendering on GitHub or <a href=\"https://nbviewer.jupyter.org/\">NBViewer</a>),\n",
       "  it may mean that your frontend doesn't currently support widgets.\n",
       "</p>\n"
      ],
      "text/plain": [
       "interactive(children=(FloatSlider(value=175.0, continuous_update=False, description='\\\\(\\\\theta_0\\\\)', layout=Layout(height='20px', width='80%'), max=179.99, min=0.01, step=0.01), FloatSlider(value=0.6, continuous_update=False, description='\\\\(l_b\\\\)', layout=Layout(height='20px', width='80%'), max=5.0, min=0.01, step=0.01), FloatSlider(value=0.0, continuous_update=False, description='\\\\(\\\\beta\\\\)', layout=Layout(height='20px', width='80%'), max=180.0, min=-180.0), FloatSlider(value=0.6, continuous_update=False, description='\\\\(r\\\\)', layout=Layout(height='20px', width='80%'), max=5.0, step=0.01), FloatSlider(value=0.0, continuous_update=False, description='\\\\(\\\\delta\\\\)', layout=Layout(height='20px', width='80%'), max=180.0, min=-180.0), Output()), _dom_classes=('widget-interact',))"
      ]
     },
     "metadata": {},
     "output_type": "display_data"
    }
   ],
   "source": [
    "beta_float = FloatSlider(description=r'\\(\\beta\\)', \\\n",
    "                        min=-180, max=180, step=0.1, value=0, \\\n",
    "                        continuous_update=False, layout=mylayout)\n",
    "r_float = FloatSlider(description=r'\\(r\\)', \\\n",
    "                        min=0, max=5, step=0.01, value=0.6, \\\n",
    "                        continuous_update=False, layout=mylayout)\n",
    "delta_float = FloatSlider(description=r'\\(\\delta\\)', \\\n",
    "                        min=-180, max=180, step=0.1, value=0, \\\n",
    "                        continuous_update=False, layout=mylayout)\n",
    "interactive(update_accel, theta_0=theta_0_float, l_b=l_b_float, beta=beta_float, \\\n",
    "            r=r_float, delta=delta_float)"
   ]
  },
  {
   "cell_type": "markdown",
   "metadata": {},
   "source": [
    "## Accelerometer placement\n",
    "\n",
    "There are some special positions for the accelerometer. The default values in the plot above locate the accelerometer at distance $r = l_b$ at angle $\\beta = 0$. This is at the 'pendulum distance' on the bell side of the headstock. At this position, it is easy to see that for a freely swinging bell the $x$ acceleration is identically zero. Indeed, the $x$ acceleration here measures exactly the forces acting on the bell. \n",
    "\n",
    "At this position ($r = l_b$, $\\beta = 0$), the $y$ component of the acceleration measures a component due to gravity that is the cosine of the angle, and a component proportional to the square of the velocity of the bell. Thus, if there is also a gyro attached to the bell then the velocity is known and the angle of the bell can be determined quite easily.\n",
    "\n",
    "This was my original idea for a pullometer, but it turns out that it is very difficult to position and calibrate the sensor in this position -- it is very sensitive to small changes in $\\beta$, $\\delta$ and $r$.\n",
    "\n",
    "There is a second 'magic' position for the sensor, which is on the stay side of the bell ($\\beta=180$) and at a distance $r = l_b/2$. In this position, the $y$ force is a constant when the bell is in free motion, because the centrifugal force exactly balances with gravity. The $x$ acceleration is proportional to $-\\sin \\theta$ plus the external forces. With the accelerometer at this position, there is no simple way to determine the angle of the bell and separate out this term from the exernal forces, so even if the sensor could be placed accurately at this position, it doesn't provide so much useful information."
   ]
  },
  {
   "cell_type": "code",
   "execution_count": null,
   "metadata": {},
   "outputs": [],
   "source": []
  }
 ],
 "metadata": {
  "kernelspec": {
   "display_name": "Python 3",
   "language": "python",
   "name": "python3"
  },
  "language_info": {
   "codemirror_mode": {
    "name": "ipython",
    "version": 3
   },
   "file_extension": ".py",
   "mimetype": "text/x-python",
   "name": "python",
   "nbconvert_exporter": "python",
   "pygments_lexer": "ipython3",
   "version": "3.6.3"
  }
 },
 "nbformat": 4,
 "nbformat_minor": 2
}
