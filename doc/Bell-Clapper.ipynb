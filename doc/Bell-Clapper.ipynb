{
 "cells": [
  {
   "cell_type": "code",
   "execution_count": 2,
   "metadata": {},
   "outputs": [],
   "source": [
    "%matplotlib inline\n",
    "import scipy\n",
    "import scipy.integrate as integrate\n",
    "import numpy as np\n",
    "import matplotlib.pyplot as plt\n",
    "from IPython.core.debugger import set_trace\n",
    "from functools import partial\n",
    "from ipywidgets import interactive"
   ]
  },
  {
   "cell_type": "code",
   "execution_count": 3,
   "metadata": {},
   "outputs": [],
   "source": [
    "# acceleration due to gravity\n",
    "g = 9.81"
   ]
  },
  {
   "cell_type": "code",
   "execution_count": 4,
   "metadata": {},
   "outputs": [],
   "source": [
    "# equivalent pendulum length of the bell\n",
    "l_b = 0.6\n",
    "\n",
    "# equivalent pendulum length of the clapper\n",
    "l_c = 1\n",
    "\n",
    "# distance from the bell axis to the clapper axis\n",
    "c = 0.2\n",
    "\n",
    "# angle of the clapper axis\n",
    "alpha = 0\n",
    "\n",
    "# clapper bounds\n",
    "phi0 = -30 * np.pi / 180\n",
    "phi1 = 30 * np.pi / 180"
   ]
  },
  {
   "cell_type": "code",
   "execution_count": 5,
   "metadata": {},
   "outputs": [],
   "source": [
    "# initial conditions\n",
    "\n",
    "# angle of the bell\n",
    "theta_initial = 178\n",
    "\n",
    "y0, t0 = [theta_initial * np.pi / 180, 0.0, phi1, 0.0], 0.0"
   ]
  },
  {
   "cell_type": "code",
   "execution_count": 6,
   "metadata": {},
   "outputs": [],
   "source": [
    "def deriv(l_b, l_c, c, alpha, y, t):\n",
    "    [theta, vtheta, phi, vphi] = y\n",
    "    theta_dot  = vtheta\n",
    "    vtheta_dot = - (g / l_b) * np.sin(theta)\n",
    "\n",
    "    phi_dot = vphi\n",
    "\n",
    "    # note sign error in the original notes \n",
    "    vphi_dot = -vtheta_dot * (1 + (c / l_c) * np.cos(phi - alpha)) \\\n",
    "               + (c / l_c) * (vtheta**2) * np.sin(phi - alpha) - (g / l_c) * np.sin(theta+phi)\n",
    "    return np.array([theta_dot, vtheta_dot, phi_dot, vphi_dot])"
   ]
  },
  {
   "cell_type": "code",
   "execution_count": 7,
   "metadata": {},
   "outputs": [],
   "source": [
    "def rk4(f, x, t, step):\n",
    "    k1 = step * f(x, t)\n",
    "    x1 = x + 0.5*k1\n",
    "    k2 = step * f(x1, t+0.5*step)\n",
    "    x2 = x + 0.5*k2\n",
    "    k3 = step * f(x2, t+0.5*step)\n",
    "    x3 = x + k3;\n",
    "    k4 = step * f(x3, t+step)\n",
    "    return (k1 + 2*k2 + 2*k3 + k4) / 6.0"
   ]
  },
  {
   "cell_type": "code",
   "execution_count": 8,
   "metadata": {},
   "outputs": [],
   "source": [
    "def integrate_rk4(y0, tindex, l_b, l_c, c, alpha):\n",
    "    y = []\n",
    "    y.append(y0)\n",
    "    t_last = tindex[0]\n",
    "    for t in tindex[1:]:\n",
    "        step = t - t_last\n",
    "        y0 = y0 + rk4(partial(deriv, l_b, l_c, c, alpha), y0, t_last, step)\n",
    "        # check for clapper clapping the bell\n",
    "        if y0[2] > phi1:\n",
    "            y0[2] = phi1\n",
    "            y0[3] = 0\n",
    "        elif y0[2] < phi0:\n",
    "            y0[2] = phi0\n",
    "            y0[3] = 0\n",
    "        y.append(y0)\n",
    "        t_last = t\n",
    "    return np.array(y)"
   ]
  },
  {
   "cell_type": "code",
   "execution_count": 9,
   "metadata": {},
   "outputs": [
    {
     "name": "stdout",
     "output_type": "stream",
     "text": [
      "Period of small oscillations: 1.554 seconds\n"
     ]
    }
   ],
   "source": [
    "# period of small oscillations\n",
    "T0 = 2 * np.pi * np.sqrt(l_b / g)\n",
    "print('Period of small oscillations: {:.4} seconds'.format(T0))"
   ]
  },
  {
   "cell_type": "code",
   "execution_count": 10,
   "metadata": {},
   "outputs": [
    {
     "name": "stdout",
     "output_type": "stream",
     "text": [
      "Lima-Arun approximation for the period: 6.402 seconds\n"
     ]
    }
   ],
   "source": [
    "# Lima-Arun formula, from arXiv:physics/0510206v3\n",
    "aa = np.cos(y0[0]/2)\n",
    "Tlog = -T0 * np.log(aa) / (1 - aa)\n",
    "print('Lima-Arun approximation for the period: {:.4} seconds'.format(Tlog))"
   ]
  },
  {
   "cell_type": "code",
   "execution_count": 11,
   "metadata": {},
   "outputs": [
    {
     "name": "stdout",
     "output_type": "stream",
     "text": [
      "Exact period: 5.376 seconds\n"
     ]
    }
   ],
   "source": [
    "# Exact formula from elliptic integral\n",
    "Texact = 4 * np.sqrt(l_b / g) * scipy.special.ellipk(np.sin(y0[0]/2)**2)\n",
    "print('Exact period: {:.4} seconds'.format(Texact))"
   ]
  },
  {
   "cell_type": "code",
   "execution_count": 12,
   "metadata": {},
   "outputs": [],
   "source": [
    "t = np.linspace(t0, 2*Texact, 10000)\n",
    "y = integrate_rk4(np.array(y0), t, l_b, l_c, alpha, c)"
   ]
  },
  {
   "cell_type": "code",
   "execution_count": 13,
   "metadata": {},
   "outputs": [
    {
     "data": {
      "image/png": "[encoded data removed]",
      "text/plain": [
       "<Figure size 432x288 with 1 Axes>"
      ]
     },
     "metadata": {},
     "output_type": "display_data"
    }
   ],
   "source": [
    "plt.plot(t, y[:,0] * 180 / np.pi, 'b', label='bell')\n",
    "plt.plot(t, y[:,2] * 180 / np.pi, 'g', label='clapper')\n",
    "#plt.plot(t, y[:,3] * 180 / np.pi, 'r', label='phi-dot(t)')\n",
    "plt.legend(loc='best')\n",
    "plt.xlabel('t')\n",
    "plt.ylabel('angle')\n",
    "plt.grid()\n",
    "plt.show()"
   ]
  },
  {
   "cell_type": "code",
   "execution_count": 16,
   "metadata": {},
   "outputs": [],
   "source": [
    "def update(l_b, l_c, c, alpha):\n",
    "    y = integrate_rk4(np.array(y0), t, l_b, l_c, c, alpha)\n",
    "    plt.plot(t, y[:,0] * 180 / np.pi, 'b', label='bell')\n",
    "    plt.plot(t, y[:,2] * 180 / np.pi, 'g', label='clapper')\n",
    "    plt.legend(loc='best')\n",
    "    plt.xlabel('t')\n",
    "    plt.ylabel('angle')\n",
    "    plt.grid()\n",
    "    plt.show()"
   ]
  },
  {
   "cell_type": "code",
   "execution_count": 17,
   "metadata": {},
   "outputs": [
    {
     "data": {
      "application/vnd.jupyter.widget-view+json": {
       "model_id": "838704fb6a6a46caa5272b74b800b6df",
       "version_major": 2,
       "version_minor": 0
      },
      "text/html": [
       "<p>Failed to display Jupyter Widget of type <code>interactive</code>.</p>\n",
       "<p>\n",
       "  If you're reading this message in the Jupyter Notebook or JupyterLab Notebook, it may mean\n",
       "  that the widgets JavaScript is still loading. If this message persists, it\n",
       "  likely means that the widgets JavaScript library is either not installed or\n",
       "  not enabled. See the <a href=\"https://ipywidgets.readthedocs.io/en/stable/user_install.html\">Jupyter\n",
       "  Widgets Documentation</a> for setup instructions.\n",
       "</p>\n",
       "<p>\n",
       "  If you're reading this message in another frontend (for example, a static\n",
       "  rendering on GitHub or <a href=\"https://nbviewer.jupyter.org/\">NBViewer</a>),\n",
       "  it may mean that your frontend doesn't currently support widgets.\n",
       "</p>\n"
      ],
      "text/plain": [
       "interactive(children=(FloatSlider(value=0.6, description='l_b', max=1.7999999999999998, min=-0.6), IntSlider(value=1, description='l_c', max=3, min=-1), FloatSlider(value=0.2, description='c', max=0.6000000000000001, min=-0.2), IntSlider(value=0, description='alpha', max=1), Output()), _dom_classes=('widget-interact',))"
      ]
     },
     "metadata": {},
     "output_type": "display_data"
    }
   ],
   "source": [
    "interactive(update, l_b = 0.6, l_c = 1, c = 0.2, alpha=0)"
   ]
  },
  {
   "cell_type": "code",
   "execution_count": 380,
   "metadata": {},
   "outputs": [],
   "source": []
  },
  {
   "cell_type": "code",
   "execution_count": null,
   "metadata": {},
   "outputs": [],
   "source": []
  }
 ],
 "metadata": {
  "kernelspec": {
   "display_name": "Python 3",
   "language": "python",
   "name": "python3"
  },
  "language_info": {
   "codemirror_mode": {
    "name": "ipython",
    "version": 3
   },
   "file_extension": ".py",
   "mimetype": "text/x-python",
   "name": "python",
   "nbconvert_exporter": "python",
   "pygments_lexer": "ipython3",
   "version": "3.6.3"
  }
 },
 "nbformat": 4,
 "nbformat_minor": 2
}
