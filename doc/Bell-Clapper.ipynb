{
 "cells": [
  {
   "cell_type": "code",
   "execution_count": 1,
   "metadata": {},
   "outputs": [],
   "source": [
    "%matplotlib inline\n",
    "import scipy\n",
    "import scipy.integrate as integrate\n",
    "import numpy as np\n",
    "import matplotlib.pyplot as plt\n",
    "from IPython.core.debugger import set_trace\n",
    "from functools import partial\n",
    "from ipywidgets import interactive, FloatSlider, Layout\n",
    "from IPython.display import display, SVG, HTML, Image, clear_output\n",
    "import svgutils\n",
    "import copy\n",
    "import time\n",
    "#from bqplot import pyplot as plt\n"
   ]
  },
  {
   "cell_type": "code",
   "execution_count": 2,
   "metadata": {},
   "outputs": [],
   "source": [
    "# acceleration due to gravity\n",
    "g = 9.81"
   ]
  },
  {
   "cell_type": "code",
   "execution_count": 3,
   "metadata": {},
   "outputs": [],
   "source": [
    "# equivalent pendulum length of the bell\n",
    "l_b = 0.6\n",
    "\n",
    "# equivalent pendulum length of the clapper\n",
    "l_c = 1\n",
    "\n",
    "# distance from the bell axis to the clapper axis\n",
    "c = 0.2\n",
    "\n",
    "# angle of the clapper axis\n",
    "alpha = 0\n",
    "\n",
    "# clapper bounds\n",
    "phi0 = -30 * np.pi / 180\n",
    "phi1 = 30 * np.pi / 180"
   ]
  },
  {
   "cell_type": "code",
   "execution_count": 4,
   "metadata": {},
   "outputs": [],
   "source": [
    "# initial conditions\n",
    "\n",
    "# angle of the bell\n",
    "theta_initial = 178\n",
    "\n",
    "y0, t0 = [theta_initial * np.pi / 180, 0.0, phi1, 0.0], 0.0"
   ]
  },
  {
   "cell_type": "code",
   "execution_count": 5,
   "metadata": {},
   "outputs": [],
   "source": [
    "def deriv(l_b, l_c, c, alpha, y, t):\n",
    "    [theta, vtheta, phi, vphi] = y\n",
    "    theta_dot  = vtheta\n",
    "    vtheta_dot = - (g / l_b) * np.sin(theta)\n",
    "\n",
    "    phi_dot = vphi\n",
    "\n",
    "    # note sign error in the original notes \n",
    "    vphi_dot = -vtheta_dot * (1 + (c / l_c) * np.cos(phi - alpha)) \\\n",
    "               + (c / l_c) * (vtheta**2) * np.sin(phi - alpha) - (g / l_c) * np.sin(theta+phi)\n",
    "    return np.array([theta_dot, vtheta_dot, phi_dot, vphi_dot])"
   ]
  },
  {
   "cell_type": "code",
   "execution_count": 6,
   "metadata": {},
   "outputs": [],
   "source": [
    "def rk4(f, x, t, step):\n",
    "    k1 = step * f(x, t)\n",
    "    x1 = x + 0.5*k1\n",
    "    k2 = step * f(x1, t+0.5*step)\n",
    "    x2 = x + 0.5*k2\n",
    "    k3 = step * f(x2, t+0.5*step)\n",
    "    x3 = x + k3;\n",
    "    k4 = step * f(x3, t+step)\n",
    "    return (k1 + 2*k2 + 2*k3 + k4) / 6.0"
   ]
  },
  {
   "cell_type": "code",
   "execution_count": 7,
   "metadata": {},
   "outputs": [],
   "source": [
    "def integrate_rk4(y0, tindex, l_b, l_c, c, alpha):\n",
    "    y = []\n",
    "    y.append(y0)\n",
    "    t_last = tindex[0]\n",
    "    for t in tindex[1:]:\n",
    "        step = t - t_last\n",
    "        y0 = y0 + rk4(partial(deriv, l_b, l_c, c, alpha), y0, t_last, step)\n",
    "        # check for clapper clapping the bell\n",
    "        if y0[2] > phi1:\n",
    "            y0[2] = phi1\n",
    "            y0[3] = 0\n",
    "        elif y0[2] < phi0:\n",
    "            y0[2] = phi0\n",
    "            y0[3] = 0\n",
    "        y.append(y0)\n",
    "        t_last = t\n",
    "    return np.array(y)"
   ]
  },
  {
   "cell_type": "code",
   "execution_count": 8,
   "metadata": {},
   "outputs": [
    {
     "name": "stdout",
     "output_type": "stream",
     "text": [
      "Period of small oscillations: 1.554 seconds\n"
     ]
    }
   ],
   "source": [
    "# period of small oscillations\n",
    "T0 = 2 * np.pi * np.sqrt(l_b / g)\n",
    "print('Period of small oscillations: {:.4} seconds'.format(T0))"
   ]
  },
  {
   "cell_type": "code",
   "execution_count": 9,
   "metadata": {},
   "outputs": [
    {
     "name": "stdout",
     "output_type": "stream",
     "text": [
      "Lima-Arun approximation for the period: 6.402 seconds\n"
     ]
    }
   ],
   "source": [
    "# Lima-Arun formula, from arXiv:physics/0510206v3\n",
    "aa = np.cos(y0[0]/2)\n",
    "Tlog = -T0 * np.log(aa) / (1 - aa)\n",
    "print('Lima-Arun approximation for the period: {:.4} seconds'.format(Tlog))"
   ]
  },
  {
   "cell_type": "code",
   "execution_count": 10,
   "metadata": {},
   "outputs": [
    {
     "name": "stdout",
     "output_type": "stream",
     "text": [
      "Exact period: 5.376 seconds\n"
     ]
    }
   ],
   "source": [
    "# Exact formula from elliptic integral\n",
    "Texact = 4 * np.sqrt(l_b / g) * scipy.special.ellipk(np.sin(y0[0]/2)**2)\n",
    "print('Exact period: {:.4} seconds'.format(Texact))"
   ]
  },
  {
   "cell_type": "code",
   "execution_count": 11,
   "metadata": {},
   "outputs": [],
   "source": [
    "t = np.linspace(t0, 2*Texact, 10000)\n",
    "y = integrate_rk4(np.array(y0), t, l_b, l_c, alpha, c)"
   ]
  },
  {
   "cell_type": "code",
   "execution_count": 12,
   "metadata": {},
   "outputs": [
    {
     "data": {
      "image/png": "[encoded data removed]",
      "text/plain": [
       "<Figure size 720x432 with 1 Axes>"
      ]
     },
     "metadata": {},
     "output_type": "display_data"
    }
   ],
   "source": [
    "plt.figure(figsize=(10,6))\n",
    "plt.plot(t, y[:,0] * 180 / np.pi, 'b', label='bell')\n",
    "plt.plot(t, y[:,2] * 180 / np.pi, 'g', label='clapper')\n",
    "#plt.plot(t, y[:,3] * 180 / np.pi, 'r', label='phi-dot(t)')\n",
    "plt.legend(loc='best')\n",
    "plt.xlabel('t')\n",
    "plt.ylabel('angle')\n",
    "plt.grid()\n",
    "plt.show()"
   ]
  },
  {
   "cell_type": "code",
   "execution_count": 13,
   "metadata": {},
   "outputs": [],
   "source": [
    "def update(l_b, l_c, c, alpha):\n",
    "    Texact = 4 * np.sqrt(l_b / g) * scipy.special.ellipk(np.sin(y0[0]/2)**2)\n",
    "    t = np.linspace(t0, 2*Texact, 10000)\n",
    "    y = integrate_rk4(np.array(y0), t, l_b, l_c, c, alpha*np.pi/180)\n",
    "    plt.figure(figsize=(10,8))\n",
    "    plt.plot(t, y[:,0] * 180 / np.pi, 'b', label='bell')\n",
    "    plt.plot(t, y[:,2] * 180 / np.pi, 'g', label='clapper')\n",
    "    plt.legend(loc='best')\n",
    "    plt.xlabel('t')\n",
    "    plt.ylabel('angle')\n",
    "    plt.grid()\n",
    "    plt.show()"
   ]
  },
  {
   "cell_type": "code",
   "execution_count": 14,
   "metadata": {},
   "outputs": [
    {
     "data": {
      "application/vnd.jupyter.widget-view+json": {
       "model_id": "705d1e5055f644ef8850a9bc12185a0a",
       "version_major": 2,
       "version_minor": 0
      },
      "text/html": [
       "<p>Failed to display Jupyter Widget of type <code>interactive</code>.</p>\n",
       "<p>\n",
       "  If you're reading this message in the Jupyter Notebook or JupyterLab Notebook, it may mean\n",
       "  that the widgets JavaScript is still loading. If this message persists, it\n",
       "  likely means that the widgets JavaScript library is either not installed or\n",
       "  not enabled. See the <a href=\"https://ipywidgets.readthedocs.io/en/stable/user_install.html\">Jupyter\n",
       "  Widgets Documentation</a> for setup instructions.\n",
       "</p>\n",
       "<p>\n",
       "  If you're reading this message in another frontend (for example, a static\n",
       "  rendering on GitHub or <a href=\"https://nbviewer.jupyter.org/\">NBViewer</a>),\n",
       "  it may mean that your frontend doesn't currently support widgets.\n",
       "</p>\n"
      ],
      "text/plain": [
       "interactive(children=(FloatSlider(value=0.6, continuous_update=False, description='\\\\(l_b\\\\)', layout=Layout(height='20px', width='50%'), max=5.0, min=0.01, step=0.01), FloatSlider(value=1.0, continuous_update=False, description='\\\\(l_c\\\\)', layout=Layout(height='20px', width='50%'), max=5.0, min=0.01, step=0.01), FloatSlider(value=0.2, continuous_update=False, description='\\\\(c\\\\)', layout=Layout(height='20px', width='50%'), max=5.0, min=0.01, step=0.01), FloatSlider(value=0.0, continuous_update=False, description='\\\\(\\\\alpha\\\\)', layout=Layout(height='20px', width='50%'), max=45.0, min=-45.0), Output()), _dom_classes=('widget-interact',))"
      ]
     },
     "metadata": {},
     "output_type": "display_data"
    }
   ],
   "source": [
    "mylayout = Layout(width='50%', height='20px')\n",
    "l_b_float = FloatSlider(description=r'\\(l_b\\)', \\\n",
    "                        min=0.01, max=5, step=0.01, value=0.6, \\\n",
    "                        continuous_update=False, layout=mylayout)\n",
    "l_c_float = FloatSlider(description=r'\\(l_c\\)', \\\n",
    "                        min=0.01, max=5, step=0.01, value=1, \\\n",
    "                        continuous_update=False, layout=mylayout)\n",
    "c_float = FloatSlider(description=r'\\(c\\)', \\\n",
    "                      min=0.01, max=5, step=0.01, value=0.2, \\\n",
    "                      continuous_update=False, layout=mylayout)\n",
    "alpha_float = FloatSlider(description=r'\\(\\alpha\\)', \\\n",
    "                          min=-45, max=45, step=0.1, value=0, \\\n",
    "                          continuous_update=False, layout=mylayout)\n",
    "interactive(update, l_b = l_b_float, l_c = l_c_float, c = c_float, alpha=alpha_float)"
   ]
  },
  {
   "cell_type": "code",
   "execution_count": 15,
   "metadata": {},
   "outputs": [],
   "source": [
    "svg = svgutils.transform.fromfile('wheel_bell.svg')\n",
    "image_width = float(svg.width)\n",
    "image_height = float(svg.height)\n",
    "bell_image = svg.getroot()\n",
    "\n",
    "def get_bell_image(angle):\n",
    "    bell_pic = copy.deepcopy(bell_image)\n",
    "    bell_pic.rotate(-angle, image_width/2, image_height/2)\n",
    "    return bell_pic\n",
    "\n",
    "def show_bell(angle):\n",
    "    bellfig = svgutils.transform.SVGFigure(image_width, image_height)\n",
    "    bellfig.append(get_bell_image(angle))\n",
    "    display(SVG(bellfig.to_str()))"
   ]
  },
  {
   "cell_type": "code",
   "execution_count": 16,
   "metadata": {},
   "outputs": [
    {
     "data": {
      "image/svg+xml": [
       "<svg height=\"560.0\" version=\"1.1\" viewBox=\"0 0 560.0 560.0\" width=\"560.0\" xmlns=\"http://www.w3.org/2000/svg\" xmlns:xlink=\"http://www.w3.org/1999/xlink\">\n",
       "  <g transform=\" rotate(-90.000000 280.000000 280.000000)\"><defs id=\"defs4\" xmlns:osb=\"http://www.openswatchbook.org/uri/2009/osb\">\n",
       "    <linearGradient id=\"linearGradient5306\" osb:paint=\"solid\">\n",
       "      <stop id=\"stop5308\" offset=\"0\" style=\"stop-color:#000000;stop-opacity:1;\"/>\n",
       "    </linearGradient>\n",
       "    <linearGradient id=\"linearGradient3793\" osb:paint=\"solid\">\n",
       "      <stop id=\"stop3795\" offset=\"0\" style=\"stop-color:#000000;stop-opacity:1;\"/>\n",
       "    </linearGradient>\n",
       "    <linearGradient id=\"linearGradient3787\" osb:paint=\"solid\">\n",
       "      <stop id=\"stop3789\" offset=\"0\" style=\"stop-color:#000000;stop-opacity:1;\"/>\n",
       "    </linearGradient>\n",
       "  </defs>\n",
       "  <sodipodi:namedview bordercolor=\"#666666\" borderopacity=\"1.0\" fit-margin-bottom=\"0\" fit-margin-left=\"0\" fit-margin-right=\"0\" fit-margin-top=\"0\" id=\"base\" inkscape:bbox-nodes=\"true\" inkscape:bbox-paths=\"true\" inkscape:current-layer=\"layer2\" inkscape:cx=\"263.83733\" inkscape:cy=\"156.4806\" inkscape:document-units=\"px\" inkscape:pageopacity=\"0.0\" inkscape:pageshadow=\"2\" inkscape:snap-bbox=\"true\" inkscape:snap-bbox-edge-midpoints=\"true\" inkscape:snap-bbox-midpoints=\"true\" inkscape:snap-grids=\"false\" inkscape:snap-to-guides=\"false\" inkscape:window-height=\"835\" inkscape:window-maximized=\"0\" inkscape:window-width=\"1434\" inkscape:window-x=\"0\" inkscape:window-y=\"0\" inkscape:zoom=\"1.5657364\" pagecolor=\"#ffffff\" showgrid=\"true\" xmlns:inkscape=\"http://www.inkscape.org/namespaces/inkscape\" xmlns:sodipodi=\"http://sodipodi.sourceforge.net/DTD/sodipodi-0.dtd\">\n",
       "    <inkscape:grid empspacing=\"5\" enabled=\"true\" id=\"grid2985\" originx=\"-110px\" originy=\"-420px\" snapvisiblegridlinesonly=\"true\" type=\"xygrid\" visible=\"true\"/>\n",
       "  </sodipodi:namedview>\n",
       "  <metadata id=\"metadata7\" xmlns:cc=\"http://creativecommons.org/ns#\" xmlns:dc=\"http://purl.org/dc/elements/1.1/\" xmlns:rdf=\"http://www.w3.org/1999/02/22-rdf-syntax-ns#\">\n",
       "    <rdf:RDF>\n",
       "      <cc:Work rdf:about=\"\">\n",
       "        <dc:format>image/svg+xml</dc:format>\n",
       "        <dc:type rdf:resource=\"http://purl.org/dc/dcmitype/StillImage\"/>\n",
       "        <dc:title/>\n",
       "      </cc:Work>\n",
       "    </rdf:RDF>\n",
       "  </metadata>\n",
       "  <g id=\"layer1\" inkscape:groupmode=\"layer\" inkscape:label=\"Wheel\" style=\"display:inline\" transform=\"translate(-110,-72.36218)\" xmlns:inkscape=\"http://www.inkscape.org/namespaces/inkscape\" xmlns:sodipodi=\"http://sodipodi.sourceforge.net/DTD/sodipodi-0.dtd\">\n",
       "    <path d=\"m 660,352.36218 c 0,146.35546 -118.64454,265 -265,265 -146.35546,0 -265,-118.64454 -265,-265 0,-146.35546 118.64454,-264.999997 265,-264.999997 146.35546,0 265,118.644537 265,264.999997 z\" id=\"path2987\" sodipodi:cx=\"395\" sodipodi:cy=\"352.36218\" sodipodi:rx=\"265\" sodipodi:ry=\"265\" sodipodi:type=\"arc\" style=\"fill:none;stroke:#000000;stroke-width:18.9642849;stroke-miterlimit:4;stroke-opacity:1;stroke-dasharray:none;stroke-dashoffset:0\" transform=\"matrix(1.0201028,0,0,1.0201028,-12.940608,-7.0834673)\"/>\n",
       "    <path d=\"m 410,362.36218 c 0,5.52285 -4.47715,10 -10,10 -5.52285,0 -10,-4.47715 -10,-10 0,-5.52284 4.47715,-10 10,-10 5.52285,0 10,4.47716 10,10 z\" id=\"path3799\" sodipodi:cx=\"400\" sodipodi:cy=\"362.36218\" sodipodi:rx=\"10\" sodipodi:ry=\"10\" sodipodi:type=\"arc\" style=\"fill:#000000;fill-opacity:1;stroke:#000000;stroke-width:1;stroke-miterlimit:4;stroke-opacity:1;stroke-dasharray:none;stroke-dashoffset:0\" transform=\"translate(-10,-10)\"/>\n",
       "    <rect height=\"58.788948\" id=\"rect3833\" style=\"fill:#000000;fill-opacity:1;stroke:#000000;stroke-width:1.21104169;stroke-miterlimit:4;stroke-opacity:1;stroke-dasharray:none;stroke-dashoffset:0\" width=\"99.788956\" x=\"340.10553\" y=\"272.96771\"/>\n",
       "    <path d=\"m 210,552.36218 130,-170\" id=\"path3003\" inkscape:connector-curvature=\"0\" sodipodi:nodetypes=\"cc\" style=\"fill:none;stroke:#000000;stroke-width:15;stroke-linecap:butt;stroke-linejoin:miter;stroke-miterlimit:4;stroke-opacity:1;stroke-dasharray:none\"/>\n",
       "    <path d=\"m 570,552.36218 -130,-170\" id=\"path3007\" inkscape:connector-curvature=\"0\" style=\"fill:none;stroke:#000000;stroke-width:15;stroke-linecap:butt;stroke-linejoin:miter;stroke-miterlimit:4;stroke-opacity:1;stroke-dasharray:none\"/>\n",
       "    <path d=\"m 170,192.36218 190,90\" id=\"path3009\" inkscape:connector-curvature=\"0\" sodipodi:nodetypes=\"cc\" style=\"fill:none;stroke:#000000;stroke-width:15;stroke-linecap:butt;stroke-linejoin:miter;stroke-miterlimit:4;stroke-opacity:1;stroke-dasharray:none\"/>\n",
       "    <path d=\"m 610,192.36218 -190,90\" id=\"path3011\" inkscape:connector-curvature=\"0\" sodipodi:nodetypes=\"cc\" style=\"fill:none;stroke:#000000;stroke-width:15;stroke-linecap:butt;stroke-linejoin:miter;stroke-miterlimit:4;stroke-opacity:1;stroke-dasharray:none\"/>\n",
       "    <path d=\"m 360,82.362183 0,299.999997\" id=\"path3013\" inkscape:connector-curvature=\"0\" style=\"fill:none;stroke:#000000;stroke-width:15;stroke-linecap:butt;stroke-linejoin:miter;stroke-miterlimit:4;stroke-opacity:1;stroke-dasharray:none\"/>\n",
       "    <path d=\"m 420,82.362183 0,299.999997\" id=\"path3015\" inkscape:connector-curvature=\"0\" style=\"fill:none;stroke:#000000;stroke-width:15;stroke-linecap:butt;stroke-linejoin:miter;stroke-miterlimit:4;stroke-opacity:1;stroke-dasharray:none\"/>\n",
       "    <path d=\"m 120,382.36218 540,0\" id=\"path3017\" inkscape:connector-curvature=\"0\" style=\"fill:none;stroke:#000000;stroke-width:15;stroke-linecap:butt;stroke-linejoin:miter;stroke-miterlimit:4;stroke-opacity:1;stroke-dasharray:none\"/>\n",
       "    <path d=\"m 120,372.36218 240,-50\" id=\"path3019\" inkscape:connector-curvature=\"0\" style=\"fill:none;stroke:#000000;stroke-width:15;stroke-linecap:butt;stroke-linejoin:miter;stroke-miterlimit:4;stroke-opacity:1;stroke-dasharray:none\"/>\n",
       "    <path d=\"m 660,372.36218 -240,-50\" id=\"path3021\" inkscape:connector-curvature=\"0\" style=\"fill:none;stroke:#000000;stroke-width:15;stroke-linecap:butt;stroke-linejoin:miter;stroke-miterlimit:4;stroke-opacity:1;stroke-dasharray:none\"/>\n",
       "  </g>\n",
       "  <g id=\"layer2\" inkscape:groupmode=\"layer\" inkscape:label=\"Bell\" style=\"display:inline;opacity:1\" xmlns:inkscape=\"http://www.inkscape.org/namespaces/inkscape\" xmlns:sodipodi=\"http://sodipodi.sourceforge.net/DTD/sodipodi-0.dtd\">\n",
       "    <path d=\"m 279.84838,279.98221 33.57074,0 0,10.21141 c 0,0 50.11384,7.2427 50.41294,38.52903 l 0.63868,66.80661 c 0,0 -1.05953,23.97269 23.61323,63.19339 9.40837,14.95588 31.26651,35.69914 31.64249,51.01626 l 0,0 -139.87808,0\" id=\"path3030\" inkscape:connector-curvature=\"0\" sodipodi:nodetypes=\"cccscsccc\" style=\"fill:#a17207;fill-opacity:0.67256637;stroke:#000000;stroke-width:0.53448147px;stroke-linecap:butt;stroke-linejoin:miter;stroke-opacity:1\"/>\n",
       "    <use height=\"1052.3622\" id=\"use3032\" style=\"fill:#a17207;fill-opacity:0.67256635;fill-rule:nonzero;stroke:#000000;stroke-width:0.99900001000000005;stroke-miterlimit:4;stroke-opacity:1;stroke-dasharray:none\" transform=\"matrix(-1,0,0,1,559.69677,1.3362585e-6)\" width=\"744.09448\" x=\"0\" xlink:href=\"#path3030\" y=\"0\"/>\n",
       "    <rect height=\"10.211409\" id=\"rect3034\" ry=\"0\" style=\"fill:#a1720e;fill-opacity:1;fill-rule:evenodd;stroke:#000000;stroke-width:0.53448147000000001px;stroke-linecap:butt;stroke-linejoin:miter;stroke-opacity:1\" width=\"67.141479\" x=\"246.27765\" y=\"279.98221\"/>\n",
       "  </g>\n",
       "</g>\n",
       "</svg>"
      ],
      "text/plain": [
       "<IPython.core.display.SVG object>"
      ]
     },
     "metadata": {},
     "output_type": "display_data"
    }
   ],
   "source": [
    "show_bell(90)"
   ]
  },
  {
   "cell_type": "code",
   "execution_count": 17,
   "metadata": {},
   "outputs": [
    {
     "data": {
      "application/vnd.jupyter.widget-view+json": {
       "model_id": "0357a7b872354d788c736b6fb4e0d3d9",
       "version_major": 2,
       "version_minor": 0
      },
      "text/html": [
       "<p>Failed to display Jupyter Widget of type <code>interactive</code>.</p>\n",
       "<p>\n",
       "  If you're reading this message in the Jupyter Notebook or JupyterLab Notebook, it may mean\n",
       "  that the widgets JavaScript is still loading. If this message persists, it\n",
       "  likely means that the widgets JavaScript library is either not installed or\n",
       "  not enabled. See the <a href=\"https://ipywidgets.readthedocs.io/en/stable/user_install.html\">Jupyter\n",
       "  Widgets Documentation</a> for setup instructions.\n",
       "</p>\n",
       "<p>\n",
       "  If you're reading this message in another frontend (for example, a static\n",
       "  rendering on GitHub or <a href=\"https://nbviewer.jupyter.org/\">NBViewer</a>),\n",
       "  it may mean that your frontend doesn't currently support widgets.\n",
       "</p>\n"
      ],
      "text/plain": [
       "interactive(children=(FloatSlider(value=0.0, description='angle', max=180.0, min=-180.0, step=1.0), Output()), _dom_classes=('widget-interact',))"
      ]
     },
     "metadata": {},
     "output_type": "display_data"
    }
   ],
   "source": [
    "interactive(show_bell, angle = FloatSlider(min=-180,max=180,step=1))"
   ]
  },
  {
   "cell_type": "code",
   "execution_count": 24,
   "metadata": {},
   "outputs": [
    {
     "data": {
      "image/svg+xml": [
       "<svg height=\"560.0\" version=\"1.1\" viewBox=\"0 0 560.0 560.0\" width=\"560.0\" xmlns=\"http://www.w3.org/2000/svg\" xmlns:xlink=\"http://www.w3.org/1999/xlink\">\n",
       "  <g transform=\" rotate(97.000000 280.000000 280.000000)\"><defs id=\"defs4\" xmlns:osb=\"http://www.openswatchbook.org/uri/2009/osb\">\n",
       "    <linearGradient id=\"linearGradient5306\" osb:paint=\"solid\">\n",
       "      <stop id=\"stop5308\" offset=\"0\" style=\"stop-color:#000000;stop-opacity:1;\"/>\n",
       "    </linearGradient>\n",
       "    <linearGradient id=\"linearGradient3793\" osb:paint=\"solid\">\n",
       "      <stop id=\"stop3795\" offset=\"0\" style=\"stop-color:#000000;stop-opacity:1;\"/>\n",
       "    </linearGradient>\n",
       "    <linearGradient id=\"linearGradient3787\" osb:paint=\"solid\">\n",
       "      <stop id=\"stop3789\" offset=\"0\" style=\"stop-color:#000000;stop-opacity:1;\"/>\n",
       "    </linearGradient>\n",
       "  </defs>\n",
       "  <sodipodi:namedview bordercolor=\"#666666\" borderopacity=\"1.0\" fit-margin-bottom=\"0\" fit-margin-left=\"0\" fit-margin-right=\"0\" fit-margin-top=\"0\" id=\"base\" inkscape:bbox-nodes=\"true\" inkscape:bbox-paths=\"true\" inkscape:current-layer=\"layer2\" inkscape:cx=\"263.83733\" inkscape:cy=\"156.4806\" inkscape:document-units=\"px\" inkscape:pageopacity=\"0.0\" inkscape:pageshadow=\"2\" inkscape:snap-bbox=\"true\" inkscape:snap-bbox-edge-midpoints=\"true\" inkscape:snap-bbox-midpoints=\"true\" inkscape:snap-grids=\"false\" inkscape:snap-to-guides=\"false\" inkscape:window-height=\"835\" inkscape:window-maximized=\"0\" inkscape:window-width=\"1434\" inkscape:window-x=\"0\" inkscape:window-y=\"0\" inkscape:zoom=\"1.5657364\" pagecolor=\"#ffffff\" showgrid=\"true\" xmlns:inkscape=\"http://www.inkscape.org/namespaces/inkscape\" xmlns:sodipodi=\"http://sodipodi.sourceforge.net/DTD/sodipodi-0.dtd\">\n",
       "    <inkscape:grid empspacing=\"5\" enabled=\"true\" id=\"grid2985\" originx=\"-110px\" originy=\"-420px\" snapvisiblegridlinesonly=\"true\" type=\"xygrid\" visible=\"true\"/>\n",
       "  </sodipodi:namedview>\n",
       "  <metadata id=\"metadata7\" xmlns:cc=\"http://creativecommons.org/ns#\" xmlns:dc=\"http://purl.org/dc/elements/1.1/\" xmlns:rdf=\"http://www.w3.org/1999/02/22-rdf-syntax-ns#\">\n",
       "    <rdf:RDF>\n",
       "      <cc:Work rdf:about=\"\">\n",
       "        <dc:format>image/svg+xml</dc:format>\n",
       "        <dc:type rdf:resource=\"http://purl.org/dc/dcmitype/StillImage\"/>\n",
       "        <dc:title/>\n",
       "      </cc:Work>\n",
       "    </rdf:RDF>\n",
       "  </metadata>\n",
       "  <g id=\"layer1\" inkscape:groupmode=\"layer\" inkscape:label=\"Wheel\" style=\"display:inline\" transform=\"translate(-110,-72.36218)\" xmlns:inkscape=\"http://www.inkscape.org/namespaces/inkscape\" xmlns:sodipodi=\"http://sodipodi.sourceforge.net/DTD/sodipodi-0.dtd\">\n",
       "    <path d=\"m 660,352.36218 c 0,146.35546 -118.64454,265 -265,265 -146.35546,0 -265,-118.64454 -265,-265 0,-146.35546 118.64454,-264.999997 265,-264.999997 146.35546,0 265,118.644537 265,264.999997 z\" id=\"path2987\" sodipodi:cx=\"395\" sodipodi:cy=\"352.36218\" sodipodi:rx=\"265\" sodipodi:ry=\"265\" sodipodi:type=\"arc\" style=\"fill:none;stroke:#000000;stroke-width:18.9642849;stroke-miterlimit:4;stroke-opacity:1;stroke-dasharray:none;stroke-dashoffset:0\" transform=\"matrix(1.0201028,0,0,1.0201028,-12.940608,-7.0834673)\"/>\n",
       "    <path d=\"m 410,362.36218 c 0,5.52285 -4.47715,10 -10,10 -5.52285,0 -10,-4.47715 -10,-10 0,-5.52284 4.47715,-10 10,-10 5.52285,0 10,4.47716 10,10 z\" id=\"path3799\" sodipodi:cx=\"400\" sodipodi:cy=\"362.36218\" sodipodi:rx=\"10\" sodipodi:ry=\"10\" sodipodi:type=\"arc\" style=\"fill:#000000;fill-opacity:1;stroke:#000000;stroke-width:1;stroke-miterlimit:4;stroke-opacity:1;stroke-dasharray:none;stroke-dashoffset:0\" transform=\"translate(-10,-10)\"/>\n",
       "    <rect height=\"58.788948\" id=\"rect3833\" style=\"fill:#000000;fill-opacity:1;stroke:#000000;stroke-width:1.21104169;stroke-miterlimit:4;stroke-opacity:1;stroke-dasharray:none;stroke-dashoffset:0\" width=\"99.788956\" x=\"340.10553\" y=\"272.96771\"/>\n",
       "    <path d=\"m 210,552.36218 130,-170\" id=\"path3003\" inkscape:connector-curvature=\"0\" sodipodi:nodetypes=\"cc\" style=\"fill:none;stroke:#000000;stroke-width:15;stroke-linecap:butt;stroke-linejoin:miter;stroke-miterlimit:4;stroke-opacity:1;stroke-dasharray:none\"/>\n",
       "    <path d=\"m 570,552.36218 -130,-170\" id=\"path3007\" inkscape:connector-curvature=\"0\" style=\"fill:none;stroke:#000000;stroke-width:15;stroke-linecap:butt;stroke-linejoin:miter;stroke-miterlimit:4;stroke-opacity:1;stroke-dasharray:none\"/>\n",
       "    <path d=\"m 170,192.36218 190,90\" id=\"path3009\" inkscape:connector-curvature=\"0\" sodipodi:nodetypes=\"cc\" style=\"fill:none;stroke:#000000;stroke-width:15;stroke-linecap:butt;stroke-linejoin:miter;stroke-miterlimit:4;stroke-opacity:1;stroke-dasharray:none\"/>\n",
       "    <path d=\"m 610,192.36218 -190,90\" id=\"path3011\" inkscape:connector-curvature=\"0\" sodipodi:nodetypes=\"cc\" style=\"fill:none;stroke:#000000;stroke-width:15;stroke-linecap:butt;stroke-linejoin:miter;stroke-miterlimit:4;stroke-opacity:1;stroke-dasharray:none\"/>\n",
       "    <path d=\"m 360,82.362183 0,299.999997\" id=\"path3013\" inkscape:connector-curvature=\"0\" style=\"fill:none;stroke:#000000;stroke-width:15;stroke-linecap:butt;stroke-linejoin:miter;stroke-miterlimit:4;stroke-opacity:1;stroke-dasharray:none\"/>\n",
       "    <path d=\"m 420,82.362183 0,299.999997\" id=\"path3015\" inkscape:connector-curvature=\"0\" style=\"fill:none;stroke:#000000;stroke-width:15;stroke-linecap:butt;stroke-linejoin:miter;stroke-miterlimit:4;stroke-opacity:1;stroke-dasharray:none\"/>\n",
       "    <path d=\"m 120,382.36218 540,0\" id=\"path3017\" inkscape:connector-curvature=\"0\" style=\"fill:none;stroke:#000000;stroke-width:15;stroke-linecap:butt;stroke-linejoin:miter;stroke-miterlimit:4;stroke-opacity:1;stroke-dasharray:none\"/>\n",
       "    <path d=\"m 120,372.36218 240,-50\" id=\"path3019\" inkscape:connector-curvature=\"0\" style=\"fill:none;stroke:#000000;stroke-width:15;stroke-linecap:butt;stroke-linejoin:miter;stroke-miterlimit:4;stroke-opacity:1;stroke-dasharray:none\"/>\n",
       "    <path d=\"m 660,372.36218 -240,-50\" id=\"path3021\" inkscape:connector-curvature=\"0\" style=\"fill:none;stroke:#000000;stroke-width:15;stroke-linecap:butt;stroke-linejoin:miter;stroke-miterlimit:4;stroke-opacity:1;stroke-dasharray:none\"/>\n",
       "  </g>\n",
       "  <g id=\"layer2\" inkscape:groupmode=\"layer\" inkscape:label=\"Bell\" style=\"display:inline;opacity:1\" xmlns:inkscape=\"http://www.inkscape.org/namespaces/inkscape\" xmlns:sodipodi=\"http://sodipodi.sourceforge.net/DTD/sodipodi-0.dtd\">\n",
       "    <path d=\"m 279.84838,279.98221 33.57074,0 0,10.21141 c 0,0 50.11384,7.2427 50.41294,38.52903 l 0.63868,66.80661 c 0,0 -1.05953,23.97269 23.61323,63.19339 9.40837,14.95588 31.26651,35.69914 31.64249,51.01626 l 0,0 -139.87808,0\" id=\"path3030\" inkscape:connector-curvature=\"0\" sodipodi:nodetypes=\"cccscsccc\" style=\"fill:#a17207;fill-opacity:0.67256637;stroke:#000000;stroke-width:0.53448147px;stroke-linecap:butt;stroke-linejoin:miter;stroke-opacity:1\"/>\n",
       "    <use height=\"1052.3622\" id=\"use3032\" style=\"fill:#a17207;fill-opacity:0.67256635;fill-rule:nonzero;stroke:#000000;stroke-width:0.99900001000000005;stroke-miterlimit:4;stroke-opacity:1;stroke-dasharray:none\" transform=\"matrix(-1,0,0,1,559.69677,1.3362585e-6)\" width=\"744.09448\" x=\"0\" xlink:href=\"#path3030\" y=\"0\"/>\n",
       "    <rect height=\"10.211409\" id=\"rect3034\" ry=\"0\" style=\"fill:#a1720e;fill-opacity:1;fill-rule:evenodd;stroke:#000000;stroke-width:0.53448147000000001px;stroke-linecap:butt;stroke-linejoin:miter;stroke-opacity:1\" width=\"67.141479\" x=\"246.27765\" y=\"279.98221\"/>\n",
       "  </g>\n",
       "</g>\n",
       "</svg>"
      ],
      "text/plain": [
       "<IPython.core.display.SVG object>"
      ]
     },
     "metadata": {},
     "output_type": "display_data"
    },
    {
     "ename": "KeyboardInterrupt",
     "evalue": "",
     "output_type": "error",
     "traceback": [
      "\u001b[0;31m---------------------------------------------------------------------------\u001b[0m",
      "\u001b[0;31mKeyboardInterrupt\u001b[0m                         Traceback (most recent call last)",
      "\u001b[0;32m<ipython-input-24-6020e0617944>\u001b[0m in \u001b[0;36m<module>\u001b[0;34m()\u001b[0m\n\u001b[1;32m      4\u001b[0m     \u001b[0mshow_bell\u001b[0m\u001b[0;34m(\u001b[0m\u001b[0mangle\u001b[0m\u001b[0;34m)\u001b[0m\u001b[0;34m\u001b[0m\u001b[0m\n\u001b[1;32m      5\u001b[0m     \u001b[0mangle\u001b[0m \u001b[0;34m=\u001b[0m \u001b[0mangle\u001b[0m \u001b[0;34m+\u001b[0m \u001b[0;36m1\u001b[0m\u001b[0;34m\u001b[0m\u001b[0m\n\u001b[0;32m----> 6\u001b[0;31m     \u001b[0mtime\u001b[0m\u001b[0;34m.\u001b[0m\u001b[0msleep\u001b[0m\u001b[0;34m(\u001b[0m\u001b[0;36m0.1\u001b[0m\u001b[0;34m)\u001b[0m\u001b[0;34m\u001b[0m\u001b[0m\n\u001b[0m",
      "\u001b[0;31mKeyboardInterrupt\u001b[0m: "
     ]
    }
   ],
   "source": [
    "angle = -180\n",
    "while True:\n",
    "    clear_output(wait=True)\n",
    "    show_bell(angle)\n",
    "    angle = angle + 1\n",
    "    time.sleep(0.1)"
   ]
  },
  {
   "cell_type": "code",
   "execution_count": null,
   "metadata": {},
   "outputs": [],
   "source": []
  }
 ],
 "metadata": {
  "kernelspec": {
   "display_name": "Python 3",
   "language": "python",
   "name": "python3"
  },
  "language_info": {
   "codemirror_mode": {
    "name": "ipython",
    "version": 3
   },
   "file_extension": ".py",
   "mimetype": "text/x-python",
   "name": "python",
   "nbconvert_exporter": "python",
   "pygments_lexer": "ipython3",
   "version": "3.6.3"
  }
 },
 "nbformat": 4,
 "nbformat_minor": 2
}
