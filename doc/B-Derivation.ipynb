{
 "cells": [
  {
   "cell_type": "markdown",
   "metadata": {},
   "source": [
    "# Dynamics of a bell and clapper"
   ]
  },
  {
   "cell_type": "markdown",
   "metadata": {},
   "source": [
    "The notation we use is as follows:\n",
    "<img src=\"bellfigure.svg\">"
   ]
  },
  {
   "cell_type": "markdown",
   "metadata": {},
   "source": [
    "The bell mass is $M$.  The centre of gravity is located at a distance\n",
    "$r$ from the axis of rotation (at the top of the bell). The clapper has mass $m$, and pivots from an axis located at angle $\\alpha$ from the centre line of the bell, at distance $a$ from the bell axis. The centre of gravity of the clapper is located a distance $c$ from the clapper axis.\n",
    "\n",
    "The moment of inertia of the bell about its centre of gravity is $I'_b$, and the moment of intertia of the clapper about its centre of gravity is $I'_c$.  It is more convenient to use the moments of inertia about the respective axes, which are denoted $I_b$ and $I_c$."
   ]
  },
  {
   "cell_type": "markdown",
   "metadata": {},
   "source": [
    "A more complete table of notation is included in [Appendix A - Notation](A-Notation.ipynb)\n",
    "\n",
    "| Symbol    | meaning |\n",
    "|-----------|---------|\n",
    "|$\\theta$   | angle of the bell from bottom dead centre -- positive angle = backstroke |\n",
    "|$M$        | mass of the bell|\n",
    "|$b$        | distance from the axis of the bell to its centre of gravity|\n",
    "|$I'_b$     | moment of inertia of the bell about its centre of gravity|\n",
    "|$I_b$      | moment of intertia of the bell about its axis|\n",
    "|$K_b$      | coefficient of friction of the bell|\n",
    "|$a$        |  distance from the bell axis to the clapper axis|\n",
    "|$\\alpha$   |  angle of the clapper axis from the centre line of the bell|\n",
    "|$\\phi$     |  angle of the clapper from the centre line of the bell|\n",
    "|$m$        | mass of the clapper|\n",
    "|$c$        | distance from the clapper axis to the clapper centre of gravity|\n",
    "|$I'_c$     | moment of inertia of the clapper about its centre of gravity|\n",
    "|$I_c$      | moment of inertia of the clapper about its axis|"
   ]
  },
  {
   "cell_type": "markdown",
   "metadata": {},
   "source": [
    "From the parallel axis theorem, we have\n",
    "\n",
    "$I_b = I'_b + Mb^2$\n",
    "\n",
    "$I_c = I'_c + mc^2$"
   ]
  },
  {
   "cell_type": "markdown",
   "metadata": {},
   "source": [
    "It is sometimes useful to know the cartesian coordinates of the bell and the clapper. Taking the axis of the bell to be at $(0,0)$, the location of the bell's centre of gravity is\n",
    "\n",
    "$(b \\sin \\theta, -b \\cos \\theta)$\n",
    "\n",
    "The location of the clapper's axis is\n",
    "\n",
    "$(a \\sin (\\theta + \\alpha), -a \\cos (\\theta + \\alpha))$\n",
    "\n",
    "The centre of gravity of the clapper is\n",
    "\n",
    "$(a \\sin (\\theta + \\alpha) + c \\sin (\\theta + \\phi), -a \\cos (\\theta + \\alpha) - c \\cos (\\theta + \\phi))$\n",
    "\n",
    "or in angular coordinates, at\n",
    "\n",
    "$r_c^2 = a^2 + b^2 + 2 ac \\cos (\\theta - \\alpha)$\n",
    "\n",
    "$\\phi' = \\theta + \\arctan \\frac{a \\cos \\alpha + c \\cos \\phi}{a \\sin \\alpha + c \\sin \\phi}$\n"
   ]
  },
  {
   "cell_type": "markdown",
   "metadata": {},
   "source": [
    "## Potential Energy\n",
    "\n",
    "Given the location of the centre of mass of the bell and clapper, it is straightforward to write down the gravitational potential energy, for the bell,\n",
    "\n",
    "$PE_b = -M g b \\cos \\theta$\n",
    "\n",
    "and\n",
    "\n",
    "$PE_c = -mg (a \\cos (\\theta + \\alpha) + c \\cos (\\theta + \\phi))$\n",
    "\n",
    "for the clapper."
   ]
  },
  {
   "cell_type": "markdown",
   "metadata": {},
   "source": [
    "## Kinetic Energy\n",
    "\n",
    "The kinetic energy of the bell is the sum of the contributions from the motion of the centre of gravity, plus the rotational kinetic energy,\n",
    "\n",
    "$KE_b = \\frac{1}{2} M r^2 \\dot{\\theta}^2 + \\frac{1}{2} I'_b \\dot{\\theta}^2 = \\frac{1}{2} I_b \\dot{\\theta}^2$\n",
    "\n",
    "To find the kinetic energy of the clapper, we first obtain the velocity in cartesian coordinates of the clapper centre of mass,\n",
    "\n",
    "$\\vec{v}_c = (a \\dot{\\theta} \\cos (\\theta + \\alpha) + c (\\dot{\\theta} + \\cot{\\phi}) \\cos (\\theta + \\phi), a \\dot{\\theta} \\sin(\\theta + \\alpha) + c (\\dot{\\theta} + \\dot{\\phi}) \\sin(\\theta + \\phi))$\n",
    "\n",
    "which gives the squared velocity,\n",
    "\n",
    "$v_c^2 = a^2 \\dot\\theta^2 + c^2(\\dot\\theta + \\dot \\phi)^2 + 2ac \\dot\\theta (\\dot\\theta + \\dot\\phi) \\cos(\\theta - \\alpha)$\n",
    "\n",
    "The kenetic energy is the sum of the centre of mass motion and the rotational kinetic energy about the centre of mass, $mv_c^2/2 + I'_c(\\dot\\theta + \\dot\\phi)^2/2$, giving\n",
    "\n",
    "$KE_c = \\frac{1}{2} m a^2 \\dot\\theta^2 + \\frac{1}{2} I_c (\\dot\\theta + \\dot\\phi)^2 + mac \\dot\\theta (\\dot\\theta + \\dot\\phi) \\cos(\\phi - \\alpha)$"
   ]
  },
  {
   "cell_type": "markdown",
   "metadata": {},
   "source": [
    "## Lagrangian\n",
    "\n",
    "We can now write down the Lagranian for a freely swinging bell plus clapper,\n",
    "\n",
    "$$\\begin{align}\n",
    "\\cal{L} = & & I_b \\dot{\\theta}^2/2 + I_c (\\dot{\\theta}+\\dot{\\phi})^2/2 \\\\\n",
    "& + & m a^2 \\dot{\\theta}^2/2 + mac \\dot{\\theta} (\\dot{\\theta} + \\dot{\\phi}) \\cos(\\phi - \\alpha) \\\\\n",
    "& + & Mgb \\cos \\theta + mga \\cos(\\theta+\\alpha) + mgc \\cos(\\theta + \\phi)\n",
    "\\end{align}\n",
    "$$"
   ]
  },
  {
   "cell_type": "markdown",
   "metadata": {},
   "source": [
    "\n"
   ]
  }
 ],
 "metadata": {
  "kernelspec": {
   "display_name": "Python 3",
   "language": "python",
   "name": "python3"
  },
  "language_info": {
   "codemirror_mode": {
    "name": "ipython",
    "version": 3
   },
   "file_extension": ".py",
   "mimetype": "text/x-python",
   "name": "python",
   "nbconvert_exporter": "python",
   "pygments_lexer": "ipython3",
   "version": "3.6.7"
  }
 },
 "nbformat": 4,
 "nbformat_minor": 2
}
