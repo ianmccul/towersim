{
 "cells": [
  {
   "cell_type": "markdown",
   "metadata": {},
   "source": [
    "<center><h1>MEMS sensors and dynamics of a bell</h1></center>\n",
    "<BR>\n",
    "<BR>\n",
    "## Contents\n",
    "\n",
    "[**Introduction**](01-Introduction.ipynb) (not yet written)\n",
    "\n",
    "[**Gyroscopes and accelerometers**](02-MEMS.ipynb)\n",
    "\n",
    "[**Modeling a bell**](03-Bell.ipynb)\n",
    "\n",
    "[**Modeling a bell with a clapper**](04-Bell-Clapper.ipynb)\n",
    "\n",
    "[**The rope**](05-Rope.ipynb) (not yet written)\n",
    "\n",
    "[**The stay**](06-Stay.ipynb) (not yet written)\n",
    "\n",
    "[**Appendix A: summary of notation**](A-Notation.ipynb)\n",
    "\n",
    "[**Appendix B: derivation of the equations**](B-Derivation.ipynb)\n"
   ]
  },
  {
   "cell_type": "code",
   "execution_count": null,
   "metadata": {},
   "outputs": [],
   "source": []
  }
 ],
 "metadata": {
  "kernelspec": {
   "display_name": "Python 3",
   "language": "python",
   "name": "python3"
  },
  "language_info": {
   "codemirror_mode": {
    "name": "ipython",
    "version": 3
   },
   "file_extension": ".py",
   "mimetype": "text/x-python",
   "name": "python",
   "nbconvert_exporter": "python",
   "pygments_lexer": "ipython3",
   "version": "3.6.3"
  }
 },
 "nbformat": 4,
 "nbformat_minor": 2
}
