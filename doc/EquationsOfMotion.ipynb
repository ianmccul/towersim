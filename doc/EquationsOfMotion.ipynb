{
 "cells": [
  {
   "cell_type": "markdown",
   "metadata": {},
   "source": [
    "<center><h1>MEMS sensors and dynamics of a bell</h1></center>\n",
    "<BR>\n",
    "<BR>\n",
    "## Contents\n",
    "\n",
    "[**Introduction**](01-Introduction.ipynb)\n",
    "\n",
    "[**Gyroscopes and accelerometers**](02-mems.ipynb)\n",
    "\n",
    "[**Modeling a bell and clapper**](03-simple.ipynb)\n",
    "\n",
    "[**Effect of the rope**](04-rope.ipynb)\n",
    "\n",
    "[**Appendix: summary of notation**](A-notation.ipynb)\n"
   ]
  }
 ],
 "metadata": {
  "kernelspec": {
   "display_name": "Python 3",
   "language": "python",
   "name": "python3"
  },
  "language_info": {
   "codemirror_mode": {
    "name": "ipython",
    "version": 3
   },
   "file_extension": ".py",
   "mimetype": "text/x-python",
   "name": "python",
   "nbconvert_exporter": "python",
   "pygments_lexer": "ipython3",
   "version": "3.6.3"
  }
 },
 "nbformat": 4,
 "nbformat_minor": 2
}
