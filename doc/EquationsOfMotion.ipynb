{
 "cells": [
  {
   "cell_type": "markdown",
   "metadata": {},
   "source": [
    "# Equations of motion of a bell\n",
    "\n",
    "## Notation\n",
    "\n",
    "| Symbol    | meaning |\n",
    "|-----------|---------|\n",
    "|$\\theta$   | angle of the bell from bottom dead centre -- positive angle = backstroke |\n",
    "|$M$        | mass of the bell|\n",
    "|$b$        | distance from the axis of the bell to its centre of gravity|\n",
    "|$I'_b$     | moment of inertia of the bell about its centre of gravity|\n",
    "|$I_b$      | moment of intertia of the bell about its axis|\n",
    "|$K_b$      | coefficient of friction of the bell|\n",
    "|$a$        |  distance from the bell axis to the clapper axis|\n",
    "|$\\alpha$   |  angle of the clapper axis from the centre line of the bell|\n",
    "|$\\phi$     |  angle of the clapper from the centre line of the bell|\n",
    "|$m$        | mass of the clapper|\n",
    "|$c$        | distance from the clapper axis to the clapper centre of gravity|\n",
    "|$I'_c$     | moment of inertia of the clapper about its centre of gravity|\n",
    "|$I_c$      | moment of inertia of the clapper about its axis|\n",
    "|$K_c$      | friction coefficient of the clapper|\n",
    "|$\\theta_H$ | position of the stay at handstroke (negative)|\n",
    "|$\\theta_B$ | position of the stay at backstroke (positive)|\n",
    "|$Y$        | Young's modulus of the stay|\n",
    "|$l_w$      | radius of the wheel|\n",
    "|$\\gamma$   | angle of the garter hole|\n",
    "|$M_r$      | mass of the rope|\n",
    "|$y_r$      | vertical height of the rope, relative to the pulley|\n",
    "|$f(t)$     | external force on the bell (ie, from the ringer pulling on the rope)|\n",
    "|$r$        | distance of the accelerometer from the axis|\n",
    "|$\\beta$    | angle of the accelerometer from the centre line of the bell|\n",
    "|$g$        | acceleration due to gravity, $9.81 ms^{-2}$|"
   ]
  },
  {
   "cell_type": "markdown",
   "metadata": {},
   "source": [
    "## Derived quantitities\n",
    "\n",
    "|Symbol     | definition | meaning|\n",
    "|-----------|--------|\n",
    "|$l_b$      | $\\frac{I_b}{Mb}$ | equivalent 'pendulum length' of the bell|\n",
    "|$k_b$      | $\\frac{K_b}{Mb}$ | reduced friction of the bell|\n",
    "|$l_c$      | $\\frac{I_c}{mc}$ | equivalent 'pendulum length' of the clapper|\n",
    "|$k_c$      | $\\frac{K_c}{mc}$ | reduced friction of the clapper|\n",
    "|$F(t)$     | $\\frac{f(t)}{I_b}$ | reduced force"
   ]
  },
  {
   "cell_type": "markdown",
   "metadata": {},
   "source": [
    "# Gyroscopes and accelerometers\n",
    "\n",
    "in recent years, microelectromecanical (MEMS) sensors for detecting rotation and acceleration have become widely available, largely driven by consumer markets for pedometers, smart phones, etc.  MEMS devices are mechanical components built into a silicon chip, and can be produced very cleaply (a few cents to a few dollars per device).  The two kinds of devices that we are most interested in are *gryoscopes* and *accelerometers*.\n",
    "\n",
    "## Gyroscopes\n",
    "\n",
    "MEMS gyroscopes work by setting up an oscillating mass, and measuring the [coriolis forces](https://en.wikipedia.org/wiki/Coriolis_force) that arise when the plane of oscillation is rotated. A gyroscope measures the rotation velocity in degrees per second (for convenience we will use radians per second in the calculations). MEMS gyroscopes work very well, they have fairly low noise, and good resolution. A typical MEMS gyroscope is the L3GD20H, shown here as used in the sensor box.  The gyro chip is about 2mm square on a green breakout board, the one I used is from [Pololu electronics](https://www.pololu.com/product/2129). ![L3GD20H](gyro.jpg)\n",
    "\n",
    "\n",
    "Some typical output of the gyroscope appears here, ![](gryo-output-example.png)\n",
    "\n",
    "\n",
    "In this example, from the middle of a section of ringing, the bell is not moving at time 0, but then rapidly starts to move in the $-\\theta$ direction (handstroke, in my convention), and accelerates until the bell reaches bottom-dead-centre (maximum velocity), and then starts to slow down again.  There is a small spike visible in the signal, from then the clapper strikes the bell. As we can see, on this scale there isn't much noise from the sensor, although if you zoom in a bit, there is a bit of noise in the individual samples, for example here is a zoom around bottom dead centre: ![](gryo-output-example-zoom.png)\n",
    "\n",
    "Nevertheless, it is clear just from observation that we can distinguish the time the bell passes through bottom-dead-centre to an accuracy of better than 0.01 seconds (10 milliseconds), and about 1ms with a bit of effort. This makes a gyroscope ideal for use as a bottom-dead-centre detector in a simulator setup, even without any other additional information that we can gain from the gyroscope.\n",
    "\n",
    "A problem with MEMS gyroscopes is that there is a zero bias -- the zero reading from the gryoscope doesn't mean that the object isn't rotating, but there is an offset that needs to be taken into account.  Worse, this offset depends on temerature, and, for high accuracy, the rate of change of temperature.  While this isn't important for use as a bottom-dead-centre detector, it is important to take into account when using the gyroscope to obtain the angle and forces on the bell.\n",
    "\n",
    "## Accelerometers\n",
    "\n",
    "MEMS accelerometers work by measuring the deflection of a mass on the end of a cantilever. The accelerometer I use is the MMA8415Q, which is included as part of the microcontroller board I use (the FRDM-KL25z).\n",
    "\n",
    "The accelerometer measures acceleration forces, including acceleration due to gravity. A MEMS accelerometer at rest will measure a force of -g pointing in the down direction, due to gravity. This means that it can be used to measure the tilt angle of an object very easily, as long as it isn't in motion. If it is in motion, then there are dynamical forces that can easily be large enough to swamp the gravitiational signal. For a rotating object, the acceleration can be measured on two perpendicular axes. If we line one axis up with the centre line of the bell, then this axis will measure the outward forces (ie, the centrifugal forces) and the perpendicular axis will measure the sideways forces as the bell slows down and speeds up its rotation. Unlike the gyroscope, the accelerometer is very sensitive to the exact position where it is located on the bell.  For example, moving the accelerometer closer to the axis of rotation tends to reduce the dynamical forces (in the extreme, if you could locate the accelerometer very accurately right on the axis itself, then in principle it would measure only the tilt angle of the bell).  Conversely, moving the accelerometer further away from the axis increases the dynamical forces, so tends to measure more of the force on the bell, and relatively less of the tilt component. The output of the accelerometer also depends on the angle it is positioned at relative to the centre line of the bell, and the angle of the sensor itself mixes the signal of the two axes. So unlike the gryoscope, the output of the accelerometer isn't easy to interpret, and it isn't easy to use as a bottom-dead-centre detector without either substantial post-processing of the data, or careful positioning and aligning of the sensor to a specific position on the bell.\n",
    "\n",
    "MEMS accelerometers are very susceptible to noise of all forms. An accelerometer isn't so different mechanically to a microphone. This particularly affects the accelerometer output when the bells are rung open, and when many bells are rung together. The accelerometer also picks up other vibrations, such as frame or tower movement. For these reasons, I do not recommend using an accelerometer alone, either as a bottom-dead-centre detector or as part of a pullometer. An accelerometer is useful however in conjunction with a gryoscope, in order to control drift from integrating the gryo output. Combining the gyro and accelerometer output (known as *sensor fusion*, in the engineering community) will be the topic of another chapter of these notes.\n",
    "\n",
    "Sme sample output of an accelerometer is shown here: ![](accel.png)\n",
    "\n",
    "In this example, the accelerometer is placed on the wheel above the headstock.  Initially the bell is set, so the accelerometer is pointing down and angled just over the vertical, so the vertical axis is measuring almost 1g (9.81), and the horizonal axis is measuring slightly non-zero because the bell is slightl over vertical.  When the bell is pulled off, the vertical component of the acceleration initially stays about the same, because although the component due to gravity is reduced as the bell rotates further away from vertical, the dynamic  centrifugal force is always in the direction of this sensor axis and, for this position of the sensor, has the same sign as the acceleration due to gravity of the bell when it is set. Near bottom dead-centre however, when the gravity component of the acceleration on the vertical sensor would be -9.81, the centrifugal force is fairly large, and the tital acceleration is close to zero. (If the sensor was placed a bit further away from the axis of rotation, the centrifugal force at this point would be larger still -- in fact there is a 'magic' point where, for a freely swinging bell, and ignoring friction, the rope, and the ringer, the vertical component of the acceleration would be *constant*. This is dicussed in section XXXX.)  Meanwhile, the horizontal sensor is measuring the sideways component of the acceleration, so we can see that it starts accelerating in the positive direction (towards the backstroke), and will reach maximum acceleration when the bell is at 90 degrees (horizontal). After this point, the acceleration slows down and then starts deaccelerating (change in sign of the acceleration) at roughly bottom dead centre (if the sensor is placed exactly along the centre line of the bell and exactly vertically then the acceration will be zero at bottom dead centre, but any rotation or offset of the sensor will shift this point away from bottom dead centre.)  As the bell goes up at backstroke, the acceleration of the bell drops to be quite small as the bell approaches the balance, and then increases again and follows the same pattern as the handstroke, but in the opposite direction. \n",
    "\n",
    "Although the bell is tied in this example, there is still some noise which is probably due to the stay hitting the slider. When the bell is rung open, the noise in the signal is *much* worse, note the different vertical scale to the previous plot: ![](accel-bad-example.png)\n",
    "\n",
    "This noise is predominantly acoustic in origin, and from all the bells, not just the one that the accelerometer is attached to.  I have verified this by positioning another accelerometer nearby (but not attached to a bell!). It might be possible to reduce this noise by attaching the sensor more securely, so that it cannot vibrate.  Something that has been suggested, but I haven't tried, is to attach the sensor IC directly to the headstock (eg with superglue, which is easy to prise off later if it needs to be removed)."
   ]
  },
  {
   "cell_type": "code",
   "execution_count": null,
   "metadata": {},
   "outputs": [],
   "source": []
  }
 ],
 "metadata": {
  "kernelspec": {
   "display_name": "Python 3",
   "language": "python",
   "name": "python3"
  },
  "language_info": {
   "codemirror_mode": {
    "name": "ipython",
    "version": 3
   },
   "file_extension": ".py",
   "mimetype": "text/x-python",
   "name": "python",
   "nbconvert_exporter": "python",
   "pygments_lexer": "ipython3",
   "version": "3.6.3"
  }
 },
 "nbformat": 4,
 "nbformat_minor": 2
}
