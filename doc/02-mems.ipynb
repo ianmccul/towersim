{
 "cells": [
  {
   "cell_type": "markdown",
   "metadata": {},
   "source": [
    "# Gyroscopes and accelerometers\n",
    "\n",
    "In this section, we give a brief overview of gyroscopes and accelerometers, and the information that they provide. In recent years, microelectromecanical (MEMS) sensors for detecting rotation and acceleration have become widely available, largely driven by consumer markets for pedometers, smart phones, etc.  MEMS devices are mechanical components built into a silicon chip, and can be produced very cleaply (a few cents to a few dollars per device).  The two kinds of devices that we are most interested in are *gryoscopes* and *accelerometers*.\n",
    "\n",
    "## Gyroscopes\n",
    "\n",
    "MEMS gyroscopes work by setting up an oscillating mass, and measuring the [coriolis forces](https://en.wikipedia.org/wiki/Coriolis_force) that arise when the plane of oscillation is rotated. A gyroscope measures the rotation velocity in degrees per second (for convenience we will use radians per second in the calculations). MEMS gyroscopes work very well, they have fairly low noise, and good resolution. A typical MEMS gyroscope is the L3GD20H, shown here as used in the sensor box.  The gyro chip is about 2mm square on a green breakout board, the one I used is from [Pololu electronics](https://www.pololu.com/product/2129). ![L3GD20H](gyro.jpg)\n",
    "\n",
    "\n",
    "Some typical output of the gyroscope appears here, ![](gryo-output-example.png)\n",
    "\n",
    "\n",
    "In this example, from the middle of a section of ringing, the bell is not moving at time 0, but then rapidly starts to move in the $-\\theta$ direction (handstroke, in my convention), and accelerates until the bell reaches bottom-dead-centre (maximum velocity), and then starts to slow down again.  There is a small spike visible in the signal, which occurs when the clapper strikes the bell. With a more detailed analysis of the data, it is possible to see that when the clapper strikes the bell the bell speeds up just slightly. On this scale there isn't much noise from the sensor, although if you zoom in a bit, there is a bit of noise in the individual samples, for example here is a zoom around bottom dead centre: ![](gryo-output-example-zoom.png)\n",
    "\n",
    "Nevertheless, it is clear just from observation that we can distinguish the time the bell passes through bottom-dead-centre to an accuracy of better than 0.01 seconds (10 milliseconds), and about 1ms with a bit more effort to find the best fit. This makes a gyroscope ideal for use as a bottom-dead-centre detector in a simulator setup, even without any other additional information that we can gain from the gyroscope.\n",
    "\n",
    "A problem with MEMS gyroscopes is that there is a zero bias -- the zero reading from the gryoscope doesn't mean that the object isn't rotating, but there is an offset that needs to be taken into account.  Worse, this offset depends on temerature, and, for high accuracy, the rate of change of temperature.  While this isn't important for use as a bottom-dead-centre detector, it is important to take into account when using the gyroscope to obtain the angle and forces on the bell.\n",
    "\n",
    "TODO: add something about the bottom-dead-centre detector\n",
    "\n",
    "## Accelerometers\n",
    "\n",
    "MEMS accelerometers work by measuring the deflection of a mass on the end of a cantilever. The accelerometer I use is the MMA8415Q, which is included as part of the microcontroller board I use (the FRDM-KL25z).\n",
    "\n",
    "The accelerometer measures acceleration forces, including acceleration due to gravity. A MEMS accelerometer at rest will measure a force of -g pointing in the down direction, due to gravity. This means that it can be used to measure the tilt angle of an object very easily, as long as it isn't in motion. If it is in motion, then there are dynamical forces that can easily be large enough to swamp the gravitiational signal. For a rotating object, the acceleration can be measured on two perpendicular axes. If we line one axis up with the centre line of the bell, then this axis will measure the outward forces (ie, the centrifugal forces) and the perpendicular axis will measure the sideways forces as the bell slows down and speeds up its rotation. Unlike the gyroscope, the accelerometer is very sensitive to the exact position where it is located on the bell.  For example, moving the accelerometer closer to the axis of rotation tends to reduce the dynamical forces (in the extreme, if you could locate the accelerometer very accurately right on the axis itself, then in principle it would measure only the tilt angle of the bell).  Conversely, moving the accelerometer further away from the axis increases the dynamical forces, so tends to measure more of the force on the bell, and relatively less of the tilt component. The output of the accelerometer also depends on the angle it is positioned at relative to the centre line of the bell, and the angle of the sensor itself mixes the signal of the two axes. So unlike the gryoscope, the output of the accelerometer isn't easy to interpret, and it isn't easy to use as a bottom-dead-centre detector without either substantial post-processing of the data, or careful positioning and aligning of the sensor to a specific position on the bell.\n",
    "\n",
    "MEMS accelerometers are very susceptible to environmental noise. An accelerometer isn't so different mechanically to a microphone. This particularly affects the accelerometer output when the bells are rung open, and when many bells are rung together. The accelerometer also picks up other vibrations, such as frame or tower movement. For these reasons, I do not recommend using an accelerometer alone, either as a bottom-dead-centre detector or as part of a pullometer. An accelerometer is useful however in conjunction with a gryoscope, in order to control drift from integrating the gryo output. Combining the gyro and accelerometer output (known as *sensor fusion*, in the engineering community) will be the topic of another chapter of these notes.\n",
    "\n",
    "Sme sample output of an accelerometer is shown here: ![](accel.png)\n",
    "\n",
    "In this example, the accelerometer is placed on the wheel above the headstock.  Initially the bell is set, so the accelerometer is pointing down and angled just over the vertical, so the vertical axis is measuring almost 1g (9.81), and the horizonal axis is measuring slightly non-zero because the bell is slightl over vertical.  When the bell is pulled off, the vertical component of the acceleration initially stays about the same, because although the component due to gravity is reduced as the bell rotates further away from vertical, the dynamic  centrifugal force is always in the direction of this sensor axis and, for this position of the sensor, has the same sign as the acceleration due to gravity of the bell when it is set. Near bottom dead-centre however, when the gravity component of the acceleration on the vertical sensor would be -9.81, the centrifugal force is fairly large, and the tital acceleration is close to zero. (If the sensor was placed a bit further away from the axis of rotation, the centrifugal force at this point would be larger still -- in fact there is a 'magic' point where, for a freely swinging bell, and ignoring friction, the rope, and the ringer, the vertical component of the acceleration would be *constant*. This is dicussed in section XXXX.)  Meanwhile, the horizontal sensor is measuring the sideways component of the acceleration, so we can see that it starts accelerating in the positive direction (towards the backstroke), and will reach maximum acceleration when the bell is at 90 degrees (horizontal). After this point, the acceleration slows down and then starts deaccelerating (change in sign of the acceleration) at roughly bottom dead centre (if the sensor is placed exactly along the centre line of the bell and exactly vertically then the acceration will be zero at bottom dead centre, but any rotation or offset of the sensor will shift this point away from bottom dead centre.)  As the bell goes up at backstroke, the acceleration of the bell drops to be quite small as the bell approaches the balance, and then increases again and follows the same pattern as the handstroke, but in the opposite direction.\n",
    "\n",
    "This is one example, for an accelerometer placed above the headstock. With the accelerometer in a different location, it is possible to produce very diffrent looking output. For example, with the sensor placed below the headstock, there is another 'magic' point where, for a freely swinging bell (again ignoring friction, the rope, and the ringer) the *horizontal* acceleration is strictly zero.\n",
    "\n",
    "Although the bell is tied in this example, there is still some noise which is probably due to the stay hitting the slider. When the bell is rung open, the noise in the signal is *much* worse, note the different vertical scale to the previous plot: ![](accel-bad-example.png)\n",
    "\n",
    "This noise is predominantly acoustic in origin, and from all the bells, not just the one that the accelerometer is attached to.  I have verified this by positioning another accelerometer nearby (but not attached to a bell!). It might be possible to reduce this noise by attaching the sensor more securely, so that it cannot vibrate.  Something that has been suggested, but I haven't tried, is to attach the sensor IC directly to the headstock (eg with superglue, which is easy to prise off later if it needs to be removed)."
   ]
  },
  {
   "cell_type": "code",
   "execution_count": null,
   "metadata": {},
   "outputs": [],
   "source": []
  }
 ],
 "metadata": {
  "kernelspec": {
   "display_name": "Python 3",
   "language": "python",
   "name": "python3"
  },
  "language_info": {
   "codemirror_mode": {
    "name": "ipython",
    "version": 3
   },
   "file_extension": ".py",
   "mimetype": "text/x-python",
   "name": "python",
   "nbconvert_exporter": "python",
   "pygments_lexer": "ipython3",
   "version": "3.6.3"
  }
 },
 "nbformat": 4,
 "nbformat_minor": 2
}
