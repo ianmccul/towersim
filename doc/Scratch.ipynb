{
 "cells": [
  {
   "cell_type": "code",
   "execution_count": null,
   "metadata": {},
   "outputs": [],
   "source": [
    "t = np.linspace(t0, 2*Texact, 10000)\n",
    "[StrikeTimes, y] = integrate_sequence(np.array(y0), t, l_b, l_c, c, alpha)\n",
    "plt.figure(figsize=(10,6))\n",
    "plt.plot(t, y[:,0] * 180 / np.pi, 'b', label='bell')\n",
    "plt.plot(t, y[:,2] * 180 / np.pi, 'g', label='clapper')\n",
    "plt.plot([], [], 'r-', label='strike')\n",
    "for tStrike in StrikeTimes:\n",
    "    plt.plot((tStrike, tStrike), (-180, 180), 'r-')\n",
    "#plt.plot(t, y[:,3] * 180 / np.pi, 'r', label='phi-dot(t)')\n",
    "plt.legend(loc='best')\n",
    "plt.xlabel('t')\n",
    "plt.ylabel('angle')\n",
    "plt.grid()\n",
    "plt.show()"
   ]
  }
 ],
 "metadata": {
  "kernelspec": {
   "display_name": "Python 3",
   "language": "python",
   "name": "python3"
  },
  "language_info": {
   "codemirror_mode": {
    "name": "ipython",
    "version": 3
   },
   "file_extension": ".py",
   "mimetype": "text/x-python",
   "name": "python",
   "nbconvert_exporter": "python",
   "pygments_lexer": "ipython3",
   "version": "3.6.3"
  }
 },
 "nbformat": 4,
 "nbformat_minor": 2
}
