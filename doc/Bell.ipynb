{
 "cells": [
  {
   "cell_type": "code",
   "execution_count": 64,
   "metadata": {},
   "outputs": [],
   "source": [
    "%matplotlib inline\n",
    "import scipy\n",
    "import scipy.integrate as integrate\n",
    "import numpy as np\n",
    "import matplotlib.pyplot as plt"
   ]
  },
  {
   "cell_type": "code",
   "execution_count": 65,
   "metadata": {},
   "outputs": [],
   "source": [
    "# acceleration due to gravity\n",
    "g = 9.81"
   ]
  },
  {
   "cell_type": "code",
   "execution_count": 66,
   "metadata": {},
   "outputs": [],
   "source": [
    "# equivalent pendulum length of the bell\n",
    "l_b = 2"
   ]
  },
  {
   "cell_type": "code",
   "execution_count": 67,
   "metadata": {},
   "outputs": [],
   "source": [
    "def deriv(y, t):\n",
    "    [theta, vtheta] = y\n",
    "    theta_dot  = vtheta\n",
    "    vtheta_dot = - (g / l_b) * sin(theta)\n",
    "    return [theta_dot, vtheta_dot]"
   ]
  },
  {
   "cell_type": "code",
   "execution_count": 89,
   "metadata": {},
   "outputs": [],
   "source": [
    "# initial conditions\n",
    "y0, t0 = [170 * np.pi / 180, 0], 0"
   ]
  },
  {
   "cell_type": "code",
   "execution_count": 110,
   "metadata": {},
   "outputs": [
    {
     "name": "stdout",
     "output_type": "stream",
     "text": [
      "Period of small oscillations: 2.837 seconds\n"
     ]
    }
   ],
   "source": [
    "# period of small oscillations\n",
    "T0 = 2 * np.pi * np.sqrt(l_b / g)\n",
    "print('Period of small oscillations: {:.4} seconds'.format(T0))"
   ]
  },
  {
   "cell_type": "code",
   "execution_count": 111,
   "metadata": {},
   "outputs": [
    {
     "name": "stdout",
     "output_type": "stream",
     "text": [
      "Lima-Arun approximation for the period: 7.583 seconds\n"
     ]
    }
   ],
   "source": [
    "# Lima-Arun formula, from arXiv:physics/0510206v3\n",
    "aa = np.cos(y0[0]/2)\n",
    "Tlog = -T0 * np.log(aa) / (1 - aa)\n",
    "print('Lima-Arun approximation for the period: {:.4} seconds'.format(Tlog))"
   ]
  },
  {
   "cell_type": "code",
   "execution_count": 115,
   "metadata": {},
   "outputs": [
    {
     "name": "stdout",
     "output_type": "stream",
     "text": [
      "Exact period: 6.92 seconds\n"
     ]
    }
   ],
   "source": [
    "# Exact formula from elliptic integral\n",
    "Texact = 4 * np.sqrt(l_b / g) * scipy.special.ellipk(np.sin(y0[0]/2)**2)\n",
    "print('Exact period: {:.4} seconds'.format(Texact))"
   ]
  },
  {
   "cell_type": "code",
   "execution_count": 113,
   "metadata": {},
   "outputs": [],
   "source": [
    "t = np.linspace(t0, Texact, 1000)\n",
    "y = integrate.odeint(deriv, y0, t)"
   ]
  },
  {
   "cell_type": "code",
   "execution_count": 99,
   "metadata": {},
   "outputs": [
    {
     "data": {
      "image/png": "[encoded data removed]",
      "text/plain": [
       "<Figure size 432x288 with 1 Axes>"
      ]
     },
     "metadata": {},
     "output_type": "display_data"
    }
   ],
   "source": [
    "plt.plot(t, y[:,0] * 180 / np.pi, 'b', label='theta(t)')\n",
    "plt.legend(loc='best')\n",
    "plt.xlabel('t')\n",
    "plt.ylabel('theta')\n",
    "plt.grid()\n",
    "plt.show()"
   ]
  },
  {
   "cell_type": "code",
   "execution_count": null,
   "metadata": {},
   "outputs": [],
   "source": []
  }
 ],
 "metadata": {
  "kernelspec": {
   "display_name": "Python 3",
   "language": "python",
   "name": "python3"
  },
  "language_info": {
   "codemirror_mode": {
    "name": "ipython",
    "version": 3
   },
   "file_extension": ".py",
   "mimetype": "text/x-python",
   "name": "python",
   "nbconvert_exporter": "python",
   "pygments_lexer": "ipython3",
   "version": "3.6.3"
  }
 },
 "nbformat": 4,
 "nbformat_minor": 2
}
