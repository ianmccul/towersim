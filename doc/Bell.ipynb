{
 "cells": [
  {
   "cell_type": "markdown",
   "metadata": {},
   "source": [
    "# Motion of a bell\n",
    "\n",
    "In this notebook, we solve the equations of motion for a freely swinging bell, ignoring all other\n",
    "effects such as the clapper."
   ]
  },
  {
   "cell_type": "code",
   "execution_count": 25,
   "metadata": {},
   "outputs": [],
   "source": [
    "%matplotlib inline\n",
    "from scipy.special import ellipk\n",
    "import scipy.integrate as integrate\n",
    "import numpy as np\n",
    "from functools import partial\n",
    "import matplotlib.pyplot as plt\n",
    "from ipywidgets import interactive, FloatSlider, Layout"
   ]
  },
  {
   "cell_type": "code",
   "execution_count": 26,
   "metadata": {},
   "outputs": [],
   "source": [
    "# acceleration due to gravity\n",
    "g = 9.81"
   ]
  },
  {
   "cell_type": "markdown",
   "metadata": {},
   "source": [
    "The equations of motion are derived in the appendix. Writing them as two coupled first order differential equations for the angle $\\theta$ and angular velocity $v_\\theta$:\n",
    "\n",
    "$$\\begin{align}\n",
    "\\dot{\\theta} && = && v_\\theta \\\\\n",
    "\\dot{v}_\\theta && = && - \\frac{g}{l_b} \\sin \\theta\n",
    "\\end{align}\n",
    "$$\n",
    "\n",
    "We can use the ODE solver from SciPy.  Although it turns out this isn't so accurate, if you set the bell swinging with large oscillations (very close to 180 degrees), then sometimes it swings more than 180 degrees at the next stroke (which means it keeps on swinging around in the same direction, since there isn't a stay!).  The RK4 solver used in the next section doesn't have this problem."
   ]
  },
  {
   "cell_type": "code",
   "execution_count": 47,
   "metadata": {},
   "outputs": [],
   "source": [
    "def deriv(l_b, y, t):\n",
    "    [theta, vtheta] = y\n",
    "    theta_dot  = vtheta\n",
    "    vtheta_dot = - (g / l_b) * np.sin(theta)\n",
    "    return [theta_dot, vtheta_dot]"
   ]
  },
  {
   "cell_type": "code",
   "execution_count": null,
   "metadata": {},
   "outputs": [],
   "source": []
  },
  {
   "cell_type": "markdown",
   "metadata": {},
   "source": [
    "Some functions to get the oscillation period. There is a well-known approximation for small oscillations\n",
    "of a pendulum, which is independent of the amplitude (as long as the amplitude is quite small). We\n",
    "also calculate an approximation that works for larger amplitudes; there are several such approximations\n",
    "that have been proposed, here we use the Lima-Arun formula, from arXiv:physics/0510206v3.\n",
    "Finally, the *exact* period can be calculated from the elliptic integral of the first kind."
   ]
  },
  {
   "cell_type": "code",
   "execution_count": 48,
   "metadata": {},
   "outputs": [],
   "source": [
    "# period of small oscillations\n",
    "def small_oscillation(l_b):\n",
    "    return 2 * np.pi * np.sqrt(l_b / g)\n",
    "\n",
    "# Lima-Arun formula, from arXiv:physics/0510206v3\n",
    "def lima_arun(l_b, theta_0):\n",
    "    aa = np.cos(theta_0/2)\n",
    "    return -small_oscillation(l_b) * np.log(aa) / (1 - aa)\n",
    "\n",
    "# Exact formula from elliptic integral\n",
    "def exact_period(l_b, theta_0):\n",
    "    return 4 * np.sqrt(l_b / g) * ellipk(np.sin(theta_0/2)**2)"
   ]
  },
  {
   "cell_type": "code",
   "execution_count": 52,
   "metadata": {},
   "outputs": [],
   "source": [
    "def update(theta_0, l_b):\n",
    "    Texact = exact_period(l_b, theta_0 * np.pi/180)\n",
    "    t = np.linspace(0, 2.5*Texact, 10000)\n",
    "    y0 = [theta_0 * np.pi / 180, 0]\n",
    "    y = integrate.odeint(partial(deriv, l_b), y0, t)\n",
    "    fig, ax1 = plt.subplots(figsize=(10,8))\n",
    "    ax1.set_xlabel('t')\n",
    "    ax1.set_ylabel('angle', color='b')\n",
    "    ax1.plot(t, y[:,0] * 180 / np.pi, 'b')\n",
    "    ax2 = ax1.twinx()\n",
    "    ax2.set_ylabel('velocity', color='g')\n",
    "    ax2.plot(t, y[:,1] * 180 / np.pi, 'g')\n",
    "    ax1.grid()\n",
    "    ax2.grid()\n",
    "    fig.tight_layout()\n",
    "    plt.show()\n",
    "    print('Period of small oscillations: {:.4} seconds'.format(small_oscillation(l_b)))\n",
    "    print('Lima-Arun approximation for the period: {:.4}'.format(lima_arun(l_b, theta_0*np.pi/180)))\n",
    "    print('Exact period: {:.4}'.format(Texact))"
   ]
  },
  {
   "cell_type": "code",
   "execution_count": 53,
   "metadata": {},
   "outputs": [
    {
     "data": {
      "application/vnd.jupyter.widget-view+json": {
       "model_id": "3e231f09abf24d29837072e50ecdb812",
       "version_major": 2,
       "version_minor": 0
      },
      "text/html": [
       "<p>Failed to display Jupyter Widget of type <code>interactive</code>.</p>\n",
       "<p>\n",
       "  If you're reading this message in the Jupyter Notebook or JupyterLab Notebook, it may mean\n",
       "  that the widgets JavaScript is still loading. If this message persists, it\n",
       "  likely means that the widgets JavaScript library is either not installed or\n",
       "  not enabled. See the <a href=\"https://ipywidgets.readthedocs.io/en/stable/user_install.html\">Jupyter\n",
       "  Widgets Documentation</a> for setup instructions.\n",
       "</p>\n",
       "<p>\n",
       "  If you're reading this message in another frontend (for example, a static\n",
       "  rendering on GitHub or <a href=\"https://nbviewer.jupyter.org/\">NBViewer</a>),\n",
       "  it may mean that your frontend doesn't currently support widgets.\n",
       "</p>\n"
      ],
      "text/plain": [
       "interactive(children=(FloatSlider(value=175.0, continuous_update=False, description='\\\\(\\\\theta_0\\\\)', layout=Layout(height='20px', width='50%'), max=179.99, min=0.01, step=0.01), FloatSlider(value=0.6, continuous_update=False, description='\\\\(l_b\\\\)', layout=Layout(height='20px', width='50%'), max=5.0, min=0.01, step=0.01), Output()), _dom_classes=('widget-interact',))"
      ]
     },
     "metadata": {},
     "output_type": "display_data"
    }
   ],
   "source": [
    "mylayout = Layout(width='50%', height='20px')\n",
    "theta_0_float = FloatSlider(description=r'\\(\\theta_0\\)', \\\n",
    "                        min=0.01, max=179.99, step=0.01, value=175, \\\n",
    "                        continuous_update=False, layout=mylayout)\n",
    "l_b_float = FloatSlider(description=r'\\(l_b\\)', \\\n",
    "                        min=0.01, max=5, step=0.01, value=0.6, \\\n",
    "                        continuous_update=False, layout=mylayout)\n",
    "interactive(update, theta_0=theta_0_float, l_b=l_b_float)"
   ]
  },
  {
   "cell_type": "markdown",
   "metadata": {},
   "source": [
    "## Accelerometer\n",
    "\n",
    "We now plot the signal as measured by an accelerometer if it is placed on the bell at an angle $\\beta$ from the centre line of the bell, at a distance $r$ from the axis. We assume that the axes of the accelerometer are at angle $\\delta$ relative to the direction of the axis of the bell. This means that if the accelerometer is placed such that the $Y$-axis is vertical, then we have $\\delta = -\\beta$."
   ]
  },
  {
   "cell_type": "code",
   "execution_count": null,
   "metadata": {},
   "outputs": [],
   "source": []
  }
 ],
 "metadata": {
  "kernelspec": {
   "display_name": "Python 3",
   "language": "python",
   "name": "python3"
  },
  "language_info": {
   "codemirror_mode": {
    "name": "ipython",
    "version": 3
   },
   "file_extension": ".py",
   "mimetype": "text/x-python",
   "name": "python",
   "nbconvert_exporter": "python",
   "pygments_lexer": "ipython3",
   "version": "3.6.3"
  }
 },
 "nbformat": 4,
 "nbformat_minor": 2
}
